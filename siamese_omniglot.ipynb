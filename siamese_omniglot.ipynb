{
 "cells": [
  {
   "cell_type": "code",
   "execution_count": 1,
   "metadata": {},
   "outputs": [],
   "source": [
    "import torch\n",
    "from torch.utils.data import Dataset, DataLoader, random_split\n",
    "from torch import nn\n",
    "import torch.nn.functional as F\n",
    "import torch.optim as optim\n",
    "\n",
    "from torchvision import transforms\n",
    "\n",
    "import matplotlib.pyplot as plt\n",
    "\n",
    "\n",
    "\n",
    "import PIL\n",
    "\n",
    "import glob\n",
    "import os\n",
    "\n",
    "from collections import defaultdict\n",
    "import random\n",
    "import numpy as np\n",
    "\n",
    "\n",
    "    "
   ]
  },
  {
   "cell_type": "code",
   "execution_count": 2,
   "metadata": {},
   "outputs": [],
   "source": [
    "def read_files(data_path):\n",
    "    work_dir = os.getcwd()\n",
    "    os.chdir(data_path)\n",
    "    data_dict = defaultdict(dict)\n",
    "    \n",
    "    try:\n",
    "        for file in glob.glob('./*/*'):\n",
    "            path_split = file.split('/')[1:]\n",
    "            data_dict[path_split[0]][path_split[1]] = os.listdir(file)\n",
    "    except Exception as e:\n",
    "        print(e)\n",
    "        os.chdir(work_dir)\n",
    "    os.chdir(work_dir)\n",
    "    \n",
    "    return data_dict"
   ]
  },
  {
   "cell_type": "code",
   "execution_count": 3,
   "metadata": {},
   "outputs": [],
   "source": [
    "train_dir = 'app/siamese_network/data//omniglot/images_background/'\n",
    "#train_dict = read_files(train_dir)\n",
    "\n",
    "# test_dir = 'data/omniglot/images_evaluation/'\n",
    "# test_dict = read_files(test_dir)"
   ]
  },
  {
   "cell_type": "code",
   "execution_count": 4,
   "metadata": {},
   "outputs": [],
   "source": [
    "class ImageLoader(Dataset):\n",
    "    def __init__(self, data_path, data_size, transform=None):\n",
    "        self.data_path = data_path\n",
    "        self.data_size = data_size\n",
    "        self.transform = transform\n",
    "        self.data_dict = self.read_files()\n",
    "        self.category = list(self.data_dict.keys())\n",
    "    \n",
    "    def __len__(self):\n",
    "        return self.data_size\n",
    "    \n",
    "    def read_files(self):\n",
    "        work_dir = os.getcwd()\n",
    "        os.chdir(self.data_path)\n",
    "        data_dict = defaultdict(dict)\n",
    "\n",
    "        try:\n",
    "            for file in glob.glob('./*/*'):\n",
    "                path_split = file.split('/')[1:]\n",
    "                data_dict[path_split[0]][path_split[1]] = os.listdir(file)\n",
    "        except Exception as e:\n",
    "            print(e)\n",
    "            os.chdir(work_dir)\n",
    "        os.chdir(work_dir)\n",
    "\n",
    "        return data_dict\n",
    "    \n",
    "    def sample_images(self, same_class=True):\n",
    "        img1 = img2 = class_ = None\n",
    "        cat = random.choice(self.category)\n",
    "        if same_class:\n",
    "            char = random.choice(list(self.data_dict[cat].keys()))\n",
    "            img1, img2 = random.sample(self.data_dict[cat][char], 2)\n",
    "            \n",
    "            img1 = ('/').join([cat, char, img1])\n",
    "            img2 = ('/').join([cat, char, img2])\n",
    "            class_ = 1\n",
    "\n",
    "        else:\n",
    "            if random.random() > 0.5:\n",
    "                char1, char2 = random.sample(list(self.data_dict[cat].keys()), 2)\n",
    "                img1 = random.choice(self.data_dict[cat][char1])\n",
    "                img2 = random.choice(self.data_dict[cat][char2])\n",
    "\n",
    "                img1 = ('/').join([cat, char1, img1])\n",
    "                img2 = ('/').join([cat, char2, img2])\n",
    "                class_ = 0\n",
    "            else:\n",
    "                char1 = random.choice(list(self.data_dict[cat].keys()))\n",
    "                img1 = random.choice(self.data_dict[cat][char1])\n",
    "                img1 = ('/').join([cat, char1, img1])\n",
    "\n",
    "                cat2 = random.choice(self.category)\n",
    "                char2 = random.choice(list(self.data_dict[cat2].keys()))\n",
    "                img2 = random.choice(self.data_dict[cat2][char2])\n",
    "                img2 = ('/').join([cat2, char2, img2])\n",
    "                class_= 0\n",
    "        \n",
    "        img1 = PIL.Image.open(self.data_path + '/' + img1)\n",
    "        img2 = PIL.Image.open(self.data_path + '/' + img2)\n",
    "        if self.transform:\n",
    "            img1 = self.transform(img1)\n",
    "            img2 = self.transform(img2)\n",
    "        \n",
    "        return [img1, img2, class_]   \n",
    "              \n",
    "        \n",
    "    \n",
    "    def __getitem__(self, index):\n",
    "        if index%2==0:\n",
    "            return self.sample_images(same_class=True)\n",
    "        return self.sample_images(same_class=False)"
   ]
  },
  {
   "cell_type": "code",
   "execution_count": 5,
   "metadata": {},
   "outputs": [],
   "source": [
    "img_transform = transforms.Compose([\n",
    "        transforms.Resize((255, 255)),\n",
    "        # transforms.RandomHorizontalFlip(),\n",
    "        transforms.ToTensor(),])"
   ]
  },
  {
   "cell_type": "code",
   "execution_count": 6,
   "metadata": {},
   "outputs": [],
   "source": [
    "imgLoader = ImageLoader(train_dir, 10000, transform=img_transform)\n",
    "train_set, val_set = random_split(imgLoader, [8000, 2000])"
   ]
  },
  {
   "cell_type": "code",
   "execution_count": 7,
   "metadata": {},
   "outputs": [],
   "source": [
    "train_loader = DataLoader(train_set, batch_size=128)\n",
    "valid_loader = DataLoader(val_set)"
   ]
  },
  {
   "cell_type": "code",
   "execution_count": 8,
   "metadata": {},
   "outputs": [
    {
     "output_type": "display_data",
     "data": {
      "text/plain": "<Figure size 1800x288 with 20 Axes>",
      "image/svg+xml": "<?xml version=\"1.0\" encoding=\"utf-8\" standalone=\"no\"?>\n<!DOCTYPE svg PUBLIC \"-//W3C//DTD SVG 1.1//EN\"\n  \"http://www.w3.org/Graphics/SVG/1.1/DTD/svg11.dtd\">\n<!-- Created with matplotlib (http://matplotlib.org/) -->\n<svg height=\"238.84pt\" version=\"1.1\" viewBox=\"0 0 1397.016025 238.84\" width=\"1397.016025pt\" xmlns=\"http://www.w3.org/2000/svg\" xmlns:xlink=\"http://www.w3.org/1999/xlink\">\n <defs>\n  <style type=\"text/css\">\n*{stroke-linecap:butt;stroke-linejoin:round;}\n  </style>\n </defs>\n <g id=\"figure_1\">\n  <g id=\"patch_1\">\n   <path d=\"M 0 238.84 \nL 1397.016025 238.84 \nL 1397.016025 0 \nL 0 0 \nz\n\" style=\"fill:none;\"/>\n  </g>\n  <g id=\"axes_1\">\n   <g id=\"patch_2\">\n    <path d=\"M 10.7 109.536364 \nL 109.536364 109.536364 \nL 109.536364 10.7 \nL 10.7 10.7 \nz\n\" style=\"fill:#ffffff;\"/>\n   </g>\n   <g clip-path=\"url(#p54dfa9917e)\">\n    <image height=\"99\" id=\"imagea3f3291a10\" transform=\"scale(1 -1)translate(0 -99)\" width=\"99\" x=\"10.7\" xlink:href=\"data:image/png;base64,\niVBORw0KGgoAAAANSUhEUgAAAGMAAABjCAYAAACPO76VAAAABHNCSVQICAgIfAhkiAAAAm5JREFUeJztnMlxwzAQBEcuR6G3A3AWillZKAo5Cpf9YhmmKPHANbOY/ksFbmN3cRR5+v76+IGh4K33AMwfoWRczp+9h5BFGBnqIoAgMiKIAID33gM4ShQBKXIyIkqYkCpTW0Qoy5KSEZ2QMlSzQ6ZnbA3w9X6rPJJ6hMsM1awAAsoAdIWElAFoCgkrA9ATIi/jer9JN+0UeRkTz4QoZUcYGcBrIQpSpGXsLU/sQqRlLLEmiDlLwskAdJt6SBkTakKqnk3Ny0GP4FzvN9qyNCd0ZqjR9NT2cv7slh0KODOIqCpDZUayUD0z0mWm5bzmsIy9K5RcEUu/V1klbSUrM6IFozfZZcpCyvF0absU5LVj6po9YQTpDzJePfRaQFpIiUyVTV8qraaYaNKr78BHKC+lkN2BR8sKYEFG+pDThi3igzNyynnBsmcJijhBZMtUxF6UlRlz9uxNjv5fyf9no2hmlA5MpEBvQbZMRYRexkirOXoZI1G0gQPPm+4oszuH4pnhoB/HZYoIyyDCMoiwDCKqyHATP4YzgwjLIMIyiLAMIiyDCMsgopmMiNekpXFmEFH8CD3l6J146bt0FfzmEhEuU0RQyhg1o2g/GDmiEMrMGBXLIMIyiLAMIiyDCMsgwjKIsAwiLIMIyyDCMohoLoP5u7K96ZYZFvJI1zJlIf+peu2ashb4EY/M5zSTAYz3Xvde6FZTI5eupjK2zvpUyEirr6ZlaqJmcJXLXJc78HnARpn5a1D0DOXZXBIKGYCFAEQyAAvp0sC30uoroCxQyxgNqjI1OpZBhGUQYRlEWAYRlkGEZRBhGURYBhGWQcQvsGXBqgSATd0AAAAASUVORK5CYII=\" y=\"-10.536364\"/>\n   </g>\n   <g id=\"matplotlib.axis_1\"/>\n   <g id=\"matplotlib.axis_2\"/>\n   <g id=\"patch_3\">\n    <path d=\"M 10.7 109.536364 \nL 10.7 10.7 \n\" style=\"fill:none;stroke:#000000;stroke-linecap:square;stroke-linejoin:miter;stroke-width:0.8;\"/>\n   </g>\n   <g id=\"patch_4\">\n    <path d=\"M 109.536364 109.536364 \nL 109.536364 10.7 \n\" style=\"fill:none;stroke:#000000;stroke-linecap:square;stroke-linejoin:miter;stroke-width:0.8;\"/>\n   </g>\n   <g id=\"patch_5\">\n    <path d=\"M 10.7 109.536364 \nL 109.536364 109.536364 \n\" style=\"fill:none;stroke:#000000;stroke-linecap:square;stroke-linejoin:miter;stroke-width:0.8;\"/>\n   </g>\n   <g id=\"patch_6\">\n    <path d=\"M 10.7 10.7 \nL 109.536364 10.7 \n\" style=\"fill:none;stroke:#000000;stroke-linecap:square;stroke-linejoin:miter;stroke-width:0.8;\"/>\n   </g>\n  </g>\n  <g id=\"axes_2\">\n   <g id=\"patch_7\">\n    <path d=\"M 10.7 228.14 \nL 109.536364 228.14 \nL 109.536364 129.303636 \nL 10.7 129.303636 \nz\n\" style=\"fill:#ffffff;\"/>\n   </g>\n   <g clip-path=\"url(#p22aef1cdba)\">\n    <image height=\"99\" id=\"imagee7eecdabda\" transform=\"scale(1 -1)translate(0 -99)\" width=\"99\" x=\"10.7\" xlink:href=\"data:image/png;base64,\niVBORw0KGgoAAAANSUhEUgAAAGMAAABjCAYAAACPO76VAAAABHNCSVQICAgIfAhkiAAAAaVJREFUeJzt3NGtgkAUAFEwVsG3BdgFNdMFVWAVRr8IhhAgZN07sHMagMdwd/VBrN+vx6cSwi36BDQxBogxQIwBYgwQY4AYA8QYIMYAMQaIMUCMAWIMEGOAGAPEGCDGADEGiDFAjAFiDBBjgBgD5B59Ar/a5hl27G7ow449cjJAasIbhZETMRc5IU7GTOSNET4ZKf74o3fz2rEjJgQZI+eFIAUJXaYIe8XaBc99fu4ZFScILkbUpxm/Z8BEBzHGzFKQtnlmWa6MAWKMBVHLlTFAjAFiDBBjgBgDxBggxgAxBogxQIwBgnpV519IT/PWFD8ZhKeNo8vHIF3sLZePcSbGADEGSBGfpvaK3l+MUcVHGLlMgVw+BulL3RaXqR1yBb38ZJyJMUCKiNEN/eGlJueeU9SeQd/Mi5iMszAGiDFAjAFiDBBjgBgDxBggxgAxBogxQIwBYgwQY4Bk+4kjyhsY/5DqX/NORgKpbjRjgBgjAZcpiJSPcsN/o1ATJwPEGCDGADEGiDFAjAFiDBBjgBgDxBggxgAxBogxQIwBYgwQY4AYA+QLAixVs6jebN4AAAAASUVORK5CYII=\" y=\"-129.14\"/>\n   </g>\n   <g id=\"matplotlib.axis_3\"/>\n   <g id=\"matplotlib.axis_4\"/>\n   <g id=\"patch_8\">\n    <path d=\"M 10.7 228.14 \nL 10.7 129.303636 \n\" style=\"fill:none;stroke:#000000;stroke-linecap:square;stroke-linejoin:miter;stroke-width:0.8;\"/>\n   </g>\n   <g id=\"patch_9\">\n    <path d=\"M 109.536364 228.14 \nL 109.536364 129.303636 \n\" style=\"fill:none;stroke:#000000;stroke-linecap:square;stroke-linejoin:miter;stroke-width:0.8;\"/>\n   </g>\n   <g id=\"patch_10\">\n    <path d=\"M 10.7 228.14 \nL 109.536364 228.14 \n\" style=\"fill:none;stroke:#000000;stroke-linecap:square;stroke-linejoin:miter;stroke-width:0.8;\"/>\n   </g>\n   <g id=\"patch_11\">\n    <path d=\"M 10.7 129.303636 \nL 109.536364 129.303636 \n\" style=\"fill:none;stroke:#000000;stroke-linecap:square;stroke-linejoin:miter;stroke-width:0.8;\"/>\n   </g>\n   <g id=\"text_1\">\n    <!-- tensor(0) -->\n    <defs>\n     <path d=\"M 18.3125 70.21875 \nL 18.3125 54.6875 \nL 36.8125 54.6875 \nL 36.8125 47.703125 \nL 18.3125 47.703125 \nL 18.3125 18.015625 \nQ 18.3125 11.328125 20.140625 9.421875 \nQ 21.96875 7.515625 27.59375 7.515625 \nL 36.8125 7.515625 \nL 36.8125 0 \nL 27.59375 0 \nQ 17.1875 0 13.234375 3.875 \nQ 9.28125 7.765625 9.28125 18.015625 \nL 9.28125 47.703125 \nL 2.6875 47.703125 \nL 2.6875 54.6875 \nL 9.28125 54.6875 \nL 9.28125 70.21875 \nz\n\" id=\"DejaVuSans-74\"/>\n     <path d=\"M 56.203125 29.59375 \nL 56.203125 25.203125 \nL 14.890625 25.203125 \nQ 15.484375 15.921875 20.484375 11.0625 \nQ 25.484375 6.203125 34.421875 6.203125 \nQ 39.59375 6.203125 44.453125 7.46875 \nQ 49.3125 8.734375 54.109375 11.28125 \nL 54.109375 2.78125 \nQ 49.265625 0.734375 44.1875 -0.34375 \nQ 39.109375 -1.421875 33.890625 -1.421875 \nQ 20.796875 -1.421875 13.15625 6.1875 \nQ 5.515625 13.8125 5.515625 26.8125 \nQ 5.515625 40.234375 12.765625 48.109375 \nQ 20.015625 56 32.328125 56 \nQ 43.359375 56 49.78125 48.890625 \nQ 56.203125 41.796875 56.203125 29.59375 \nz\nM 47.21875 32.234375 \nQ 47.125 39.59375 43.09375 43.984375 \nQ 39.0625 48.390625 32.421875 48.390625 \nQ 24.90625 48.390625 20.390625 44.140625 \nQ 15.875 39.890625 15.1875 32.171875 \nz\n\" id=\"DejaVuSans-65\"/>\n     <path d=\"M 54.890625 33.015625 \nL 54.890625 0 \nL 45.90625 0 \nL 45.90625 32.71875 \nQ 45.90625 40.484375 42.875 44.328125 \nQ 39.84375 48.1875 33.796875 48.1875 \nQ 26.515625 48.1875 22.3125 43.546875 \nQ 18.109375 38.921875 18.109375 30.90625 \nL 18.109375 0 \nL 9.078125 0 \nL 9.078125 54.6875 \nL 18.109375 54.6875 \nL 18.109375 46.1875 \nQ 21.34375 51.125 25.703125 53.5625 \nQ 30.078125 56 35.796875 56 \nQ 45.21875 56 50.046875 50.171875 \nQ 54.890625 44.34375 54.890625 33.015625 \nz\n\" id=\"DejaVuSans-6e\"/>\n     <path d=\"M 44.28125 53.078125 \nL 44.28125 44.578125 \nQ 40.484375 46.53125 36.375 47.5 \nQ 32.28125 48.484375 27.875 48.484375 \nQ 21.1875 48.484375 17.84375 46.4375 \nQ 14.5 44.390625 14.5 40.28125 \nQ 14.5 37.15625 16.890625 35.375 \nQ 19.28125 33.59375 26.515625 31.984375 \nL 29.59375 31.296875 \nQ 39.15625 29.25 43.1875 25.515625 \nQ 47.21875 21.78125 47.21875 15.09375 \nQ 47.21875 7.46875 41.1875 3.015625 \nQ 35.15625 -1.421875 24.609375 -1.421875 \nQ 20.21875 -1.421875 15.453125 -0.5625 \nQ 10.6875 0.296875 5.421875 2 \nL 5.421875 11.28125 \nQ 10.40625 8.6875 15.234375 7.390625 \nQ 20.0625 6.109375 24.8125 6.109375 \nQ 31.15625 6.109375 34.5625 8.28125 \nQ 37.984375 10.453125 37.984375 14.40625 \nQ 37.984375 18.0625 35.515625 20.015625 \nQ 33.0625 21.96875 24.703125 23.78125 \nL 21.578125 24.515625 \nQ 13.234375 26.265625 9.515625 29.90625 \nQ 5.8125 33.546875 5.8125 39.890625 \nQ 5.8125 47.609375 11.28125 51.796875 \nQ 16.75 56 26.8125 56 \nQ 31.78125 56 36.171875 55.265625 \nQ 40.578125 54.546875 44.28125 53.078125 \nz\n\" id=\"DejaVuSans-73\"/>\n     <path d=\"M 30.609375 48.390625 \nQ 23.390625 48.390625 19.1875 42.75 \nQ 14.984375 37.109375 14.984375 27.296875 \nQ 14.984375 17.484375 19.15625 11.84375 \nQ 23.34375 6.203125 30.609375 6.203125 \nQ 37.796875 6.203125 41.984375 11.859375 \nQ 46.1875 17.53125 46.1875 27.296875 \nQ 46.1875 37.015625 41.984375 42.703125 \nQ 37.796875 48.390625 30.609375 48.390625 \nz\nM 30.609375 56 \nQ 42.328125 56 49.015625 48.375 \nQ 55.71875 40.765625 55.71875 27.296875 \nQ 55.71875 13.875 49.015625 6.21875 \nQ 42.328125 -1.421875 30.609375 -1.421875 \nQ 18.84375 -1.421875 12.171875 6.21875 \nQ 5.515625 13.875 5.515625 27.296875 \nQ 5.515625 40.765625 12.171875 48.375 \nQ 18.84375 56 30.609375 56 \nz\n\" id=\"DejaVuSans-6f\"/>\n     <path d=\"M 41.109375 46.296875 \nQ 39.59375 47.171875 37.8125 47.578125 \nQ 36.03125 48 33.890625 48 \nQ 26.265625 48 22.1875 43.046875 \nQ 18.109375 38.09375 18.109375 28.8125 \nL 18.109375 0 \nL 9.078125 0 \nL 9.078125 54.6875 \nL 18.109375 54.6875 \nL 18.109375 46.1875 \nQ 20.953125 51.171875 25.484375 53.578125 \nQ 30.03125 56 36.53125 56 \nQ 37.453125 56 38.578125 55.875 \nQ 39.703125 55.765625 41.0625 55.515625 \nz\n\" id=\"DejaVuSans-72\"/>\n     <path d=\"M 31 75.875 \nQ 24.46875 64.65625 21.28125 53.65625 \nQ 18.109375 42.671875 18.109375 31.390625 \nQ 18.109375 20.125 21.3125 9.0625 \nQ 24.515625 -2 31 -13.1875 \nL 23.1875 -13.1875 \nQ 15.875 -1.703125 12.234375 9.375 \nQ 8.59375 20.453125 8.59375 31.390625 \nQ 8.59375 42.28125 12.203125 53.3125 \nQ 15.828125 64.359375 23.1875 75.875 \nz\n\" id=\"DejaVuSans-28\"/>\n     <path d=\"M 31.78125 66.40625 \nQ 24.171875 66.40625 20.328125 58.90625 \nQ 16.5 51.421875 16.5 36.375 \nQ 16.5 21.390625 20.328125 13.890625 \nQ 24.171875 6.390625 31.78125 6.390625 \nQ 39.453125 6.390625 43.28125 13.890625 \nQ 47.125 21.390625 47.125 36.375 \nQ 47.125 51.421875 43.28125 58.90625 \nQ 39.453125 66.40625 31.78125 66.40625 \nz\nM 31.78125 74.21875 \nQ 44.046875 74.21875 50.515625 64.515625 \nQ 56.984375 54.828125 56.984375 36.375 \nQ 56.984375 17.96875 50.515625 8.265625 \nQ 44.046875 -1.421875 31.78125 -1.421875 \nQ 19.53125 -1.421875 13.0625 8.265625 \nQ 6.59375 17.96875 6.59375 36.375 \nQ 6.59375 54.828125 13.0625 64.515625 \nQ 19.53125 74.21875 31.78125 74.21875 \nz\n\" id=\"DejaVuSans-30\"/>\n     <path d=\"M 8.015625 75.875 \nL 15.828125 75.875 \nQ 23.140625 64.359375 26.78125 53.3125 \nQ 30.421875 42.28125 30.421875 31.390625 \nQ 30.421875 20.453125 26.78125 9.375 \nQ 23.140625 -1.703125 15.828125 -13.1875 \nL 8.015625 -13.1875 \nQ 14.5 -2 17.703125 9.0625 \nQ 20.90625 20.125 20.90625 31.390625 \nQ 20.90625 42.671875 17.703125 53.65625 \nQ 14.5 64.65625 8.015625 75.875 \nz\n\" id=\"DejaVuSans-29\"/>\n    </defs>\n    <g transform=\"translate(32.508807 123.303636)scale(0.12 -0.12)\">\n     <use xlink:href=\"#DejaVuSans-74\"/>\n     <use x=\"39.208984\" xlink:href=\"#DejaVuSans-65\"/>\n     <use x=\"100.732422\" xlink:href=\"#DejaVuSans-6e\"/>\n     <use x=\"164.111328\" xlink:href=\"#DejaVuSans-73\"/>\n     <use x=\"216.210938\" xlink:href=\"#DejaVuSans-6f\"/>\n     <use x=\"277.392578\" xlink:href=\"#DejaVuSans-72\"/>\n     <use x=\"318.505859\" xlink:href=\"#DejaVuSans-28\"/>\n     <use x=\"357.519531\" xlink:href=\"#DejaVuSans-30\"/>\n     <use x=\"421.142578\" xlink:href=\"#DejaVuSans-29\"/>\n    </g>\n   </g>\n  </g>\n  <g id=\"axes_3\">\n   <g id=\"patch_12\">\n    <path d=\"M 152.564407 109.536364 \nL 251.40077 109.536364 \nL 251.40077 10.7 \nL 152.564407 10.7 \nz\n\" style=\"fill:#ffffff;\"/>\n   </g>\n   <g clip-path=\"url(#p06216b80b0)\">\n    <image height=\"99\" id=\"imageaccdb0ce52\" transform=\"scale(1 -1)translate(0 -99)\" width=\"99\" x=\"152.564407\" xlink:href=\"data:image/png;base64,\niVBORw0KGgoAAAANSUhEUgAAAGMAAABjCAYAAACPO76VAAAABHNCSVQICAgIfAhkiAAAAatJREFUeJzt3FGOAUEUQNEiswrfFmAX1mwXVsEqhK8OJmNUSby6Ve+eb4mO20+hq60u5+21CGHd+wB0ZwwQY4AYA8QYIMYAMQaIMUCMAWIMEGOAGAPEGCDGADEGiDFAjAFiDBBjgBgDxBggxgAxBogxQIwB8hP9hPvNrunxh9PxS0fCEx6jVqYIC9+mQIwBEhqjdb3IBjsZ+80uXTxsjIyMARIaI+PH1Rbhk2GQ11Y97+l7t0BnC9c1hp65gIMYA8QYIMYAMQaIMUCMAWIMEGOAGAPEGCDGADEGiDFAjAFiDJAu2ztfXeHLdmXvt/ArfS17obLFCY3xyaa01iA1z0GNPNWaURubultxqhijC4tBPBNpnAyQsBjURZNkqskYPfhUMUaHjjH6md4KeUvA4XRMF6KUDr9NUV5kynE8Qr9NZTNdjJoznjgVpXh/Bsp0kzEyY4AYA8QYIMYAMQaIMUCMAWIMEGOAGAME+++dn/pvFwr1B8JFqsmgbxdKFYPOGCDGADEGiDFAjAFiDJBpNyT89Z3CL32qNu1kjMjJADEGiDFAjAFiDBBjgNwAZ0BVLORtMWUAAAAASUVORK5CYII=\" y=\"-10.536364\"/>\n   </g>\n   <g id=\"matplotlib.axis_5\"/>\n   <g id=\"matplotlib.axis_6\"/>\n   <g id=\"patch_13\">\n    <path d=\"M 152.564407 109.536364 \nL 152.564407 10.7 \n\" style=\"fill:none;stroke:#000000;stroke-linecap:square;stroke-linejoin:miter;stroke-width:0.8;\"/>\n   </g>\n   <g id=\"patch_14\">\n    <path d=\"M 251.40077 109.536364 \nL 251.40077 10.7 \n\" style=\"fill:none;stroke:#000000;stroke-linecap:square;stroke-linejoin:miter;stroke-width:0.8;\"/>\n   </g>\n   <g id=\"patch_15\">\n    <path d=\"M 152.564407 109.536364 \nL 251.40077 109.536364 \n\" style=\"fill:none;stroke:#000000;stroke-linecap:square;stroke-linejoin:miter;stroke-width:0.8;\"/>\n   </g>\n   <g id=\"patch_16\">\n    <path d=\"M 152.564407 10.7 \nL 251.40077 10.7 \n\" style=\"fill:none;stroke:#000000;stroke-linecap:square;stroke-linejoin:miter;stroke-width:0.8;\"/>\n   </g>\n  </g>\n  <g id=\"axes_4\">\n   <g id=\"patch_17\">\n    <path d=\"M 152.564407 228.14 \nL 251.40077 228.14 \nL 251.40077 129.303636 \nL 152.564407 129.303636 \nz\n\" style=\"fill:#ffffff;\"/>\n   </g>\n   <g clip-path=\"url(#pbff8444506)\">\n    <image height=\"99\" id=\"imageba97611fbb\" transform=\"scale(1 -1)translate(0 -99)\" width=\"99\" x=\"152.564407\" xlink:href=\"data:image/png;base64,\niVBORw0KGgoAAAANSUhEUgAAAGMAAABjCAYAAACPO76VAAAABHNCSVQICAgIfAhkiAAAATBJREFUeJzt3LENwkAQAEGMqIKYAuiCmunCVUAVCEIkkxH4NpgJnfxLq8vuvbyel/eBhOP0BfgSI0SMEDFCxAgRI0SMEDFCxAgRI0SMEDFCxAgRI0SMEDFCxAgRI0SMEDFCxAgRI0SMEDFCxAgRI0SMkNPk4bfz9efb/bEO3KTBZISIESJGiBghi8cyHSYjRIwQMULECBEjRIwQMULECBEjRIwQMULECBEjRIwQMULECBEjRIwQMULECBEjRIyQsV3bvfZst+eUd3lNRogYIWKEWO8MMRkhYoSIESJGiBghYoSIESJGiBghYoSIESJGiBghYoSIESJGiBghYoSIESJGiBghYoSM/kp1D9Y7+YsYIWKEiBFi1zbEZISIESJGiBghYoSIESJGiBghYoSIEfIBf0sY5er1/j4AAAAASUVORK5CYII=\" y=\"-129.14\"/>\n   </g>\n   <g id=\"matplotlib.axis_7\"/>\n   <g id=\"matplotlib.axis_8\"/>\n   <g id=\"patch_18\">\n    <path d=\"M 152.564407 228.14 \nL 152.564407 129.303636 \n\" style=\"fill:none;stroke:#000000;stroke-linecap:square;stroke-linejoin:miter;stroke-width:0.8;\"/>\n   </g>\n   <g id=\"patch_19\">\n    <path d=\"M 251.40077 228.14 \nL 251.40077 129.303636 \n\" style=\"fill:none;stroke:#000000;stroke-linecap:square;stroke-linejoin:miter;stroke-width:0.8;\"/>\n   </g>\n   <g id=\"patch_20\">\n    <path d=\"M 152.564407 228.14 \nL 251.40077 228.14 \n\" style=\"fill:none;stroke:#000000;stroke-linecap:square;stroke-linejoin:miter;stroke-width:0.8;\"/>\n   </g>\n   <g id=\"patch_21\">\n    <path d=\"M 152.564407 129.303636 \nL 251.40077 129.303636 \n\" style=\"fill:none;stroke:#000000;stroke-linecap:square;stroke-linejoin:miter;stroke-width:0.8;\"/>\n   </g>\n   <g id=\"text_2\">\n    <!-- tensor(1) -->\n    <defs>\n     <path d=\"M 12.40625 8.296875 \nL 28.515625 8.296875 \nL 28.515625 63.921875 \nL 10.984375 60.40625 \nL 10.984375 69.390625 \nL 28.421875 72.90625 \nL 38.28125 72.90625 \nL 38.28125 8.296875 \nL 54.390625 8.296875 \nL 54.390625 0 \nL 12.40625 0 \nz\n\" id=\"DejaVuSans-31\"/>\n    </defs>\n    <g transform=\"translate(174.373214 123.303636)scale(0.12 -0.12)\">\n     <use xlink:href=\"#DejaVuSans-74\"/>\n     <use x=\"39.208984\" xlink:href=\"#DejaVuSans-65\"/>\n     <use x=\"100.732422\" xlink:href=\"#DejaVuSans-6e\"/>\n     <use x=\"164.111328\" xlink:href=\"#DejaVuSans-73\"/>\n     <use x=\"216.210938\" xlink:href=\"#DejaVuSans-6f\"/>\n     <use x=\"277.392578\" xlink:href=\"#DejaVuSans-72\"/>\n     <use x=\"318.505859\" xlink:href=\"#DejaVuSans-28\"/>\n     <use x=\"357.519531\" xlink:href=\"#DejaVuSans-31\"/>\n     <use x=\"421.142578\" xlink:href=\"#DejaVuSans-29\"/>\n    </g>\n   </g>\n  </g>\n  <g id=\"axes_5\">\n   <g id=\"patch_22\">\n    <path d=\"M 294.428814 109.536364 \nL 393.265177 109.536364 \nL 393.265177 10.7 \nL 294.428814 10.7 \nz\n\" style=\"fill:#ffffff;\"/>\n   </g>\n   <g clip-path=\"url(#p419a000257)\">\n    <image height=\"99\" id=\"image9e6ea3943f\" transform=\"scale(1 -1)translate(0 -99)\" width=\"99\" x=\"294.428814\" xlink:href=\"data:image/png;base64,\niVBORw0KGgoAAAANSUhEUgAAAGMAAABjCAYAAACPO76VAAAABHNCSVQICAgIfAhkiAAAAYBJREFUeJzt28FJA1EUQNEfsQrXFmAX1mwXVqFViC4kGGQImQTNmZ971ll8/p03Dway+3h//Bwh3F37APlRDEgxIMWAFANSDEgxIMWAFANSDEgxIMWAFANSDEgxIMWAFANSDEgxIMWAFANSDEgxIMWAFANSDEgxIMWAFANSDEgxIMWAFANSDEgxIMWAFANSDMj9tQ9wzPPD00m/e3l7/eOT/I+d+D/wUyMcmiFIrykIF+OcqZgFtTOWQiy9fmYNxkzGpRc8QyAmxhozLOsldIy1l7716aBjHDPjdGw2xoyKASkGZLMxtr6sl9Ax1l741pc6HWOM7yC/o8w4FWNAMS59qrc+FWOAn9DPfepniMFMxt4Ml3ou6qvt3mGQWffDEm4ybhm3M25ZkwEpBqQYkGJAigEpBqQYkGJAigEpBqQYkGJAigEpBqQYkGJAigEpBqQYkGJAigEpBqQYkGJAigEpBqQYkGJAigEpBqQYkGJAigEpBqQYkGJAigEpBqQYkC/wtDKYy96j5AAAAABJRU5ErkJggg==\" y=\"-10.536364\"/>\n   </g>\n   <g id=\"matplotlib.axis_9\"/>\n   <g id=\"matplotlib.axis_10\"/>\n   <g id=\"patch_23\">\n    <path d=\"M 294.428814 109.536364 \nL 294.428814 10.7 \n\" style=\"fill:none;stroke:#000000;stroke-linecap:square;stroke-linejoin:miter;stroke-width:0.8;\"/>\n   </g>\n   <g id=\"patch_24\">\n    <path d=\"M 393.265177 109.536364 \nL 393.265177 10.7 \n\" style=\"fill:none;stroke:#000000;stroke-linecap:square;stroke-linejoin:miter;stroke-width:0.8;\"/>\n   </g>\n   <g id=\"patch_25\">\n    <path d=\"M 294.428814 109.536364 \nL 393.265177 109.536364 \n\" style=\"fill:none;stroke:#000000;stroke-linecap:square;stroke-linejoin:miter;stroke-width:0.8;\"/>\n   </g>\n   <g id=\"patch_26\">\n    <path d=\"M 294.428814 10.7 \nL 393.265177 10.7 \n\" style=\"fill:none;stroke:#000000;stroke-linecap:square;stroke-linejoin:miter;stroke-width:0.8;\"/>\n   </g>\n  </g>\n  <g id=\"axes_6\">\n   <g id=\"patch_27\">\n    <path d=\"M 294.428814 228.14 \nL 393.265177 228.14 \nL 393.265177 129.303636 \nL 294.428814 129.303636 \nz\n\" style=\"fill:#ffffff;\"/>\n   </g>\n   <g clip-path=\"url(#p6f79498745)\">\n    <image height=\"99\" id=\"image3a846612d0\" transform=\"scale(1 -1)translate(0 -99)\" width=\"99\" x=\"294.428814\" xlink:href=\"data:image/png;base64,\niVBORw0KGgoAAAANSUhEUgAAAGMAAABjCAYAAACPO76VAAAABHNCSVQICAgIfAhkiAAAAepJREFUeJzt28FRwlAURuGLYxWsKYAuqNkurEKqYHD1BowJIAjv3PvOt3MFk+OfEDGrw35zDCG89X4DOjEGiDFAjAFiDBBjgLz3euHdevvj54+vz07vhMNlgGBiTJcyIkwMGQPFGCDGADEGiDFAjAFiDBBjgBgDxBggxgAxBogxQIwBYgwQY4AYA8QYIMYAMQaIMUCMAWIMEGOAGAPEGCDGADEGiDFAuj0s85/OHyfI/NCNywBJu4ylh2t2623adaRcRtWnnFIt45YIWVcRkWgZ1UNEJFjGCBEa9DJGChEBXsa1EJUiNKgYt35KqhgiAn6amlM1RARsGZdUjtCkW0Zl+GWMsIgGFWOkAz/H0xSIMUCMAWIMEGOAlIyxW29TfgFVKsY0QrYgXWI84yBlO/BzXh5j6aA9csNXIUQE7A78r6pEaBDXjHtWUfFbwHTLqPwFVJoYlSM0aWJckzlCg7hmPKpCiIgEyxjpv0TQMS6FqBShSXmaqhgi4sXLmPtNnzuwz7hLzyDlMqpCXTNGu0ZMYWKMemo6hzhNVfuD3726xxj91HSue4wlo4WIgMYYMUQENMaoVof95tjjhW+9ARyJywAxBki305R+cxkgxgAxBogxQIwBYgwQY4AYA8QYIMYAMQaIMUCMAfIN+pZosrYyK/wAAAAASUVORK5CYII=\" y=\"-129.14\"/>\n   </g>\n   <g id=\"matplotlib.axis_11\"/>\n   <g id=\"matplotlib.axis_12\"/>\n   <g id=\"patch_28\">\n    <path d=\"M 294.428814 228.14 \nL 294.428814 129.303636 \n\" style=\"fill:none;stroke:#000000;stroke-linecap:square;stroke-linejoin:miter;stroke-width:0.8;\"/>\n   </g>\n   <g id=\"patch_29\">\n    <path d=\"M 393.265177 228.14 \nL 393.265177 129.303636 \n\" style=\"fill:none;stroke:#000000;stroke-linecap:square;stroke-linejoin:miter;stroke-width:0.8;\"/>\n   </g>\n   <g id=\"patch_30\">\n    <path d=\"M 294.428814 228.14 \nL 393.265177 228.14 \n\" style=\"fill:none;stroke:#000000;stroke-linecap:square;stroke-linejoin:miter;stroke-width:0.8;\"/>\n   </g>\n   <g id=\"patch_31\">\n    <path d=\"M 294.428814 129.303636 \nL 393.265177 129.303636 \n\" style=\"fill:none;stroke:#000000;stroke-linecap:square;stroke-linejoin:miter;stroke-width:0.8;\"/>\n   </g>\n   <g id=\"text_3\">\n    <!-- tensor(0) -->\n    <g transform=\"translate(316.23762 123.303636)scale(0.12 -0.12)\">\n     <use xlink:href=\"#DejaVuSans-74\"/>\n     <use x=\"39.208984\" xlink:href=\"#DejaVuSans-65\"/>\n     <use x=\"100.732422\" xlink:href=\"#DejaVuSans-6e\"/>\n     <use x=\"164.111328\" xlink:href=\"#DejaVuSans-73\"/>\n     <use x=\"216.210938\" xlink:href=\"#DejaVuSans-6f\"/>\n     <use x=\"277.392578\" xlink:href=\"#DejaVuSans-72\"/>\n     <use x=\"318.505859\" xlink:href=\"#DejaVuSans-28\"/>\n     <use x=\"357.519531\" xlink:href=\"#DejaVuSans-30\"/>\n     <use x=\"421.142578\" xlink:href=\"#DejaVuSans-29\"/>\n    </g>\n   </g>\n  </g>\n  <g id=\"axes_7\">\n   <g id=\"patch_32\">\n    <path d=\"M 436.29322 109.536364 \nL 535.129584 109.536364 \nL 535.129584 10.7 \nL 436.29322 10.7 \nz\n\" style=\"fill:#ffffff;\"/>\n   </g>\n   <g clip-path=\"url(#p64d4c7f1b3)\">\n    <image height=\"99\" id=\"image0788706f99\" transform=\"scale(1 -1)translate(0 -99)\" width=\"99\" x=\"436.29322\" xlink:href=\"data:image/png;base64,\niVBORw0KGgoAAAANSUhEUgAAAGMAAABjCAYAAACPO76VAAAABHNCSVQICAgIfAhkiAAAAoVJREFUeJztnMFxwjAQRZdMquCcAuiCmumCKkgVmeTExEMco8S70tvVfzdmGGz09LWWLPvw8f72aQLBy+gTEN9IBgjJACEZICQDhGSAkAwQkgFCMkBIBgjJACEZICQDhGSAkAwQkgFCMkBIBgjJACEZIF57Heh8PDV973K7Bp8Jl0P07pBWCUtmFdItGX9hKXAmMWHJ+E8itphBigo4CPdk/JaI1p7dkqiqKXFNhsfQdLldnza29xBIwTUZa420txdvNXy1hLglI6q3biWlWkJCC3iPnns+nspISXM1NUMdSSPDrL6QVDLM6hXtJS4yevfIqkU9LBk9enC1lKQbplrImo70MiqlI72MSkgGCMkAIRkgJANE2D3w8/E09EonYjk/Grf7GXvv8HkftxWSIOTukFY8JndrCR7VsdxqRu8e5jnLvv/Ws3sj0TP7lAU8olFafzNSiOswdbldf5zs/XPP5LQOOzTS1QyP7aJUOe7DVGQCPPZU/WUDdsu2IU9CasbaH+jRGz0arreAJSkLeBSj5xyp7/T1OF7P+pJ+35QXhHPtNkxF/tmRl82ehF/aep185BIFZadJunnGXvY8mpBmbUrsJ7UMQtH1JK2MaiLMJqwZrYyQnTIZFVNhllRGVdLJqJoKs4QyKpNKRuVUmCWTUZ3wt+qIdpQMEFNO+h4XASm1aKphiv7qCw1TICTDGKkwkwwUU9UMOkrGCqO2fyoZC0Zf8k4xz2h5NSthM/QUMpYsn1QiCFhSvmbQGnyL8jIeaa0DI+YeZYepPYnQIwEQRs7GyyZjjceGpiyD3FEyQEgGCM3AQSgZICQDhGSAkAwQkgFCMkBIBgjJACEZICQDhGSA+ALmPvEVilg5HAAAAABJRU5ErkJggg==\" y=\"-10.536364\"/>\n   </g>\n   <g id=\"matplotlib.axis_13\"/>\n   <g id=\"matplotlib.axis_14\"/>\n   <g id=\"patch_33\">\n    <path d=\"M 436.29322 109.536364 \nL 436.29322 10.7 \n\" style=\"fill:none;stroke:#000000;stroke-linecap:square;stroke-linejoin:miter;stroke-width:0.8;\"/>\n   </g>\n   <g id=\"patch_34\">\n    <path d=\"M 535.129584 109.536364 \nL 535.129584 10.7 \n\" style=\"fill:none;stroke:#000000;stroke-linecap:square;stroke-linejoin:miter;stroke-width:0.8;\"/>\n   </g>\n   <g id=\"patch_35\">\n    <path d=\"M 436.29322 109.536364 \nL 535.129584 109.536364 \n\" style=\"fill:none;stroke:#000000;stroke-linecap:square;stroke-linejoin:miter;stroke-width:0.8;\"/>\n   </g>\n   <g id=\"patch_36\">\n    <path d=\"M 436.29322 10.7 \nL 535.129584 10.7 \n\" style=\"fill:none;stroke:#000000;stroke-linecap:square;stroke-linejoin:miter;stroke-width:0.8;\"/>\n   </g>\n  </g>\n  <g id=\"axes_8\">\n   <g id=\"patch_37\">\n    <path d=\"M 436.29322 228.14 \nL 535.129584 228.14 \nL 535.129584 129.303636 \nL 436.29322 129.303636 \nz\n\" style=\"fill:#ffffff;\"/>\n   </g>\n   <g clip-path=\"url(#p65cd442f35)\">\n    <image height=\"99\" id=\"imagef86bc142c0\" transform=\"scale(1 -1)translate(0 -99)\" width=\"99\" x=\"436.29322\" xlink:href=\"data:image/png;base64,\niVBORw0KGgoAAAANSUhEUgAAAGMAAABjCAYAAACPO76VAAAABHNCSVQICAgIfAhkiAAAAdlJREFUeJzt281NAzEQQGGCqIIzBdAFNaeLVBGqQHBCrBDEq43Hfp553xlI4sfYm7/Tx/vL54MQHmffAf0wBogxQIwBYgwQY4AYA8QYIMYAMQaIMUCMAWIMEGOAGAPEGCDGADEGiDFAjAFiDBBjgBgDxBggxgAxBogxQIwBYgwQY4AYA+Rpxo2+Pb/u+rnz9RJ8T1hOI78sszfCVqUgw2IcCbFVIUr4NnVvhEqWOcArRA3dploL+N/Wc+v3Mm9XU2LsXdB7f381YTH+Wsgji1gpSPcYUYvXKy7ZMgd4BV0vbUf/937fXpYJ6TYZ0ZeeWRb8lqW2qexBQp+Bj1q8qKkcHX+pyRht9LN+YzSMDLJcjMznxnIxMpvyTl+UPVPTeoVg5qvDTgaIMUDKxSBfAJSLQRYao8JbpT2luprai7pVdZsM6gNciWcGSJoYvSZz+3fO18vQiS95ZrTM2nLTTEYGy3w6pAInA6R7DCfgOCcDxBgg6S5tV/4YaEiMVR48jdsUiDFAjAEy9KvHJMSD3skAMQaIMUDKnhlE6Z6Bb/0+pGcf0C1uUyDGADEGiDFAvJoCcTJAjAFiDBBjgBgDxBggxgAxBogxQIwBYgwQY4AYA8QYIMYAMQbIF/fKg5XZv4GRAAAAAElFTkSuQmCC\" y=\"-129.14\"/>\n   </g>\n   <g id=\"matplotlib.axis_15\"/>\n   <g id=\"matplotlib.axis_16\"/>\n   <g id=\"patch_38\">\n    <path d=\"M 436.29322 228.14 \nL 436.29322 129.303636 \n\" style=\"fill:none;stroke:#000000;stroke-linecap:square;stroke-linejoin:miter;stroke-width:0.8;\"/>\n   </g>\n   <g id=\"patch_39\">\n    <path d=\"M 535.129584 228.14 \nL 535.129584 129.303636 \n\" style=\"fill:none;stroke:#000000;stroke-linecap:square;stroke-linejoin:miter;stroke-width:0.8;\"/>\n   </g>\n   <g id=\"patch_40\">\n    <path d=\"M 436.29322 228.14 \nL 535.129584 228.14 \n\" style=\"fill:none;stroke:#000000;stroke-linecap:square;stroke-linejoin:miter;stroke-width:0.8;\"/>\n   </g>\n   <g id=\"patch_41\">\n    <path d=\"M 436.29322 129.303636 \nL 535.129584 129.303636 \n\" style=\"fill:none;stroke:#000000;stroke-linecap:square;stroke-linejoin:miter;stroke-width:0.8;\"/>\n   </g>\n   <g id=\"text_4\">\n    <!-- tensor(1) -->\n    <g transform=\"translate(458.102027 123.303636)scale(0.12 -0.12)\">\n     <use xlink:href=\"#DejaVuSans-74\"/>\n     <use x=\"39.208984\" xlink:href=\"#DejaVuSans-65\"/>\n     <use x=\"100.732422\" xlink:href=\"#DejaVuSans-6e\"/>\n     <use x=\"164.111328\" xlink:href=\"#DejaVuSans-73\"/>\n     <use x=\"216.210938\" xlink:href=\"#DejaVuSans-6f\"/>\n     <use x=\"277.392578\" xlink:href=\"#DejaVuSans-72\"/>\n     <use x=\"318.505859\" xlink:href=\"#DejaVuSans-28\"/>\n     <use x=\"357.519531\" xlink:href=\"#DejaVuSans-31\"/>\n     <use x=\"421.142578\" xlink:href=\"#DejaVuSans-29\"/>\n    </g>\n   </g>\n  </g>\n  <g id=\"axes_9\">\n   <g id=\"patch_42\">\n    <path d=\"M 578.157627 109.536364 \nL 676.993991 109.536364 \nL 676.993991 10.7 \nL 578.157627 10.7 \nz\n\" style=\"fill:#ffffff;\"/>\n   </g>\n   <g clip-path=\"url(#p4898c89249)\">\n    <image height=\"99\" id=\"imagecd832af314\" transform=\"scale(1 -1)translate(0 -99)\" width=\"99\" x=\"578.157627\" xlink:href=\"data:image/png;base64,\niVBORw0KGgoAAAANSUhEUgAAAGMAAABjCAYAAACPO76VAAAABHNCSVQICAgIfAhkiAAAAmRJREFUeJztm8FtwzAMRZmiU+TcAbJFZs4WmSKdomgPqRAjiG3ZoqJH6b9jUbgGXz8tSvbh5/vr1wSCj9Y3IB5IBgjJACEZICQDhGSAkAwQkgFCMkBIBgjJACEZICQDhGSAkAwQkgFCMkBIBgjJACEZICQDxKfXhc7H08ufX25Xrz/RPQePV3XmREyRlHXckrHGmjDJ0jMDhUubmiOnfS0xWlqqyjArF5IYQUz1Z8arInoJ6o3qychhi5yeE4KQMSVXTI9ScDISI0rBykiMNFDiZSRGkBJm6MspdPRVWphkTOl1ayVMMqasFTtqQkImY8pS4aMlJGQypiwVPFpCwsswi5eAOd52nlGby+3qnoR3L6e7SEYvdJMML7amK/2+R0KUjAklbc6jRUrGPx7FLL2G2tQKc+1nrvDn42l3y+omGTVmiqWi1phvMDKiDWhm/vMNRobZXYinlHcMg1vb2BIoGQlvKbXxko6UkcgRQha39b7QMsyWi02SMNTQ91z4Hg+YMDJyj1Vz2hJJxJb0YmSYlRfxcrvuukbtV1Bzr4+SYbZfiHcaWqQLJ8Ns+384qS2V3EuYM/BXUS+VQPv0DZmMURly15b6RslQMuhL4rBtqofV0zPNklH6QN5y9kxPRALfpvYOZBG/72i2tCVs8pFEmAVIRg1oEhJDyaBKSDRbTe0pzN6NwCg03w4pedD29mlZcxniQdihr0ckA4RkgJAMEJIBQjJASAYIyQAhGSAkA4RkgJAMEJIBQjJASAYIyQAhGSAkA4RkgJAMEJIBQjJASAYIyQAhGSAkA4RkgJAMEJIB4g/OeuU5ztt6QQAAAABJRU5ErkJggg==\" y=\"-10.536364\"/>\n   </g>\n   <g id=\"matplotlib.axis_17\"/>\n   <g id=\"matplotlib.axis_18\"/>\n   <g id=\"patch_43\">\n    <path d=\"M 578.157627 109.536364 \nL 578.157627 10.7 \n\" style=\"fill:none;stroke:#000000;stroke-linecap:square;stroke-linejoin:miter;stroke-width:0.8;\"/>\n   </g>\n   <g id=\"patch_44\">\n    <path d=\"M 676.993991 109.536364 \nL 676.993991 10.7 \n\" style=\"fill:none;stroke:#000000;stroke-linecap:square;stroke-linejoin:miter;stroke-width:0.8;\"/>\n   </g>\n   <g id=\"patch_45\">\n    <path d=\"M 578.157627 109.536364 \nL 676.993991 109.536364 \n\" style=\"fill:none;stroke:#000000;stroke-linecap:square;stroke-linejoin:miter;stroke-width:0.8;\"/>\n   </g>\n   <g id=\"patch_46\">\n    <path d=\"M 578.157627 10.7 \nL 676.993991 10.7 \n\" style=\"fill:none;stroke:#000000;stroke-linecap:square;stroke-linejoin:miter;stroke-width:0.8;\"/>\n   </g>\n  </g>\n  <g id=\"axes_10\">\n   <g id=\"patch_47\">\n    <path d=\"M 578.157627 228.14 \nL 676.993991 228.14 \nL 676.993991 129.303636 \nL 578.157627 129.303636 \nz\n\" style=\"fill:#ffffff;\"/>\n   </g>\n   <g clip-path=\"url(#pfc36cf81c0)\">\n    <image height=\"99\" id=\"image2130408089\" transform=\"scale(1 -1)translate(0 -99)\" width=\"99\" x=\"578.157627\" xlink:href=\"data:image/png;base64,\niVBORw0KGgoAAAANSUhEUgAAAGMAAABjCAYAAACPO76VAAAABHNCSVQICAgIfAhkiAAAApZJREFUeJztnMFxwyAQRdeZVOFzCkgXrtlduAqnikxycpzxGBnBsvsk/pvx0QLx2AUk0OH76+PHBIK37AqIO5IBQjJASAYIyQAhGSAkA4RkgJAMEJIBQjJASAYIyQAhGSAkA4RkgJAMEJIBQjJASAYIyQAhGSAkA8R7z59Px0+XSpyvF5frbB1FBojDmh2FXpFQS1TE1N7X6PqgZZiNbYDW+xlVJ3cZNRVtaQSvBvDsUN5SugZws7YK/f9PZLR5l3U6froKSR/Az9fL32+JjBRZg2e9qiMjojFuQkpleffEZ2WXyo0gPTKeEb3ueFXeq8j1ktUlY2SjlRrAewBecw+jOwkyMl6ROX6UhHjUaZMyqPQKwctYm0q2DF5GCWKq6u003Yu+WRkRrc2RsYfUQVtIrno2lUmp4dZ0Co9rjGSzY8Ye2YwMj967tEYgpKzNyJiB6WQQHgiWmE6GGWfAfmRKGWZjnzG1Mq0MM16ETC2jRFZ0SAaI6WWQUlXog8JX4U9qmJHv20uERgZ1BwilE4SnqRohz6RkL8giSBkzancdZguILj9tAK9NDUtSKOnFi9TZFKkxCXVJn9q27tUlNJ436TLEHcSGhKU9tnuMgBKoyCht58yeVUWBkjE7OBkzpaVHcDJmBilj9FEAKkgZZnMKwcqIhiAaLSN7MN/1+wxC7yMTtgK/ieh9g/Yo1KP3UjpJSpryvPnea1FEmAUcCej9Psea/3scD2i5lhdYGR607hrMmjiEHZbx/lDYKMmZMzj01HY2cMfIWt9390RK9nrmBk6GF5Svq61htzK2iMYMEJIBQjJASAYIyQAhGSAkA4RkgJAMEJIBQjJASAYIyQAhGSAkA4RkgJAMEJIBQjJASAYIyQDxC4O3AHxVXIX4AAAAAElFTkSuQmCC\" y=\"-129.14\"/>\n   </g>\n   <g id=\"matplotlib.axis_19\"/>\n   <g id=\"matplotlib.axis_20\"/>\n   <g id=\"patch_48\">\n    <path d=\"M 578.157627 228.14 \nL 578.157627 129.303636 \n\" style=\"fill:none;stroke:#000000;stroke-linecap:square;stroke-linejoin:miter;stroke-width:0.8;\"/>\n   </g>\n   <g id=\"patch_49\">\n    <path d=\"M 676.993991 228.14 \nL 676.993991 129.303636 \n\" style=\"fill:none;stroke:#000000;stroke-linecap:square;stroke-linejoin:miter;stroke-width:0.8;\"/>\n   </g>\n   <g id=\"patch_50\">\n    <path d=\"M 578.157627 228.14 \nL 676.993991 228.14 \n\" style=\"fill:none;stroke:#000000;stroke-linecap:square;stroke-linejoin:miter;stroke-width:0.8;\"/>\n   </g>\n   <g id=\"patch_51\">\n    <path d=\"M 578.157627 129.303636 \nL 676.993991 129.303636 \n\" style=\"fill:none;stroke:#000000;stroke-linecap:square;stroke-linejoin:miter;stroke-width:0.8;\"/>\n   </g>\n   <g id=\"text_5\">\n    <!-- tensor(1) -->\n    <g transform=\"translate(599.966434 123.303636)scale(0.12 -0.12)\">\n     <use xlink:href=\"#DejaVuSans-74\"/>\n     <use x=\"39.208984\" xlink:href=\"#DejaVuSans-65\"/>\n     <use x=\"100.732422\" xlink:href=\"#DejaVuSans-6e\"/>\n     <use x=\"164.111328\" xlink:href=\"#DejaVuSans-73\"/>\n     <use x=\"216.210938\" xlink:href=\"#DejaVuSans-6f\"/>\n     <use x=\"277.392578\" xlink:href=\"#DejaVuSans-72\"/>\n     <use x=\"318.505859\" xlink:href=\"#DejaVuSans-28\"/>\n     <use x=\"357.519531\" xlink:href=\"#DejaVuSans-31\"/>\n     <use x=\"421.142578\" xlink:href=\"#DejaVuSans-29\"/>\n    </g>\n   </g>\n  </g>\n  <g id=\"axes_11\">\n   <g id=\"patch_52\">\n    <path d=\"M 720.022034 109.536364 \nL 818.858398 109.536364 \nL 818.858398 10.7 \nL 720.022034 10.7 \nz\n\" style=\"fill:#ffffff;\"/>\n   </g>\n   <g clip-path=\"url(#p537def5c1e)\">\n    <image height=\"99\" id=\"image449142ed05\" transform=\"scale(1 -1)translate(0 -99)\" width=\"99\" x=\"720.022034\" xlink:href=\"data:image/png;base64,\niVBORw0KGgoAAAANSUhEUgAAAGMAAABjCAYAAACPO76VAAAABHNCSVQICAgIfAhkiAAAAg9JREFUeJzt2tFN60AQQNEJoop8U0C6SM10QRVQBYIvA0KxY4Nn5lp7j/T+noK117vrdXJ6f3v6CCE8dF+AvhkDxBggxgAxBogxQIwBYgwQY4AYA8QYIMYAMQaIMUCMAWIMEGOAGAPEGCDGADEGiDFAjAHy2H0Bf3U9X1b/3+fXl8Qr2Y8zA+R0lF8UbpkJa9FmDD5GRoSfSEHQy1R2CBrszFgTYs1dvdfnVEDGuDeA/xm8uc8mBME92i6FIAxYJtSeURFi7nMI+xNmZpCXjyqomVGFGhgdo3rQupcqbAzq3ZsJ+Whb5dZM6LwJsDNjRMYAGTZG92Z9y7AxiIaMQT1gYk7gGY721Sw+BnFtz4KNMVKECS5GRwTCEhUBi1EdghJh0h6jIgBt0Oe0xjja00629plxzwgRJtgYI0WYDHkCp2qNQb77r+fL178q7TNj6dcaXQe/rr/bHiOCM0M6b4AISIwlVQNEeP2C/A6845fnhNfq+JkxEmQMyh5SfR3IZWqStVxRYv+GPYFH7DdohM15DeQyNSpjgBgDxBggxgApfZrq+Ir1KE9SEYkxRnvjugf0OSPL1mBVh0T3jBWq3hwbY4PsIOXLVOaUP/J+EQF/UTgalykQY4AYA8QYIMYAMQaIMUCMAWIMEGOAGAPEGCDGADEGiDFAjAFiDBBjgBgDxBggxgAxBogxQIwBYgyQT/6Ki+uUjB6gAAAAAElFTkSuQmCC\" y=\"-10.536364\"/>\n   </g>\n   <g id=\"matplotlib.axis_21\"/>\n   <g id=\"matplotlib.axis_22\"/>\n   <g id=\"patch_53\">\n    <path d=\"M 720.022034 109.536364 \nL 720.022034 10.7 \n\" style=\"fill:none;stroke:#000000;stroke-linecap:square;stroke-linejoin:miter;stroke-width:0.8;\"/>\n   </g>\n   <g id=\"patch_54\">\n    <path d=\"M 818.858398 109.536364 \nL 818.858398 10.7 \n\" style=\"fill:none;stroke:#000000;stroke-linecap:square;stroke-linejoin:miter;stroke-width:0.8;\"/>\n   </g>\n   <g id=\"patch_55\">\n    <path d=\"M 720.022034 109.536364 \nL 818.858398 109.536364 \n\" style=\"fill:none;stroke:#000000;stroke-linecap:square;stroke-linejoin:miter;stroke-width:0.8;\"/>\n   </g>\n   <g id=\"patch_56\">\n    <path d=\"M 720.022034 10.7 \nL 818.858398 10.7 \n\" style=\"fill:none;stroke:#000000;stroke-linecap:square;stroke-linejoin:miter;stroke-width:0.8;\"/>\n   </g>\n  </g>\n  <g id=\"axes_12\">\n   <g id=\"patch_57\">\n    <path d=\"M 720.022034 228.14 \nL 818.858398 228.14 \nL 818.858398 129.303636 \nL 720.022034 129.303636 \nz\n\" style=\"fill:#ffffff;\"/>\n   </g>\n   <g clip-path=\"url(#p80ee07c260)\">\n    <image height=\"99\" id=\"image6e1f2cf4d6\" transform=\"scale(1 -1)translate(0 -99)\" width=\"99\" x=\"720.022034\" xlink:href=\"data:image/png;base64,\niVBORw0KGgoAAAANSUhEUgAAAGMAAABjCAYAAACPO76VAAAABHNCSVQICAgIfAhkiAAAAfNJREFUeJzt291Nw0AQAOENogqeKYAuUjNdUAVUgeDJsgX5A9u3s5v5CgjRDXdrJ/Hh8+P5K4TwkP0GNDMGiDFAjAFiDBBjgBgDxBggxgAxBogxQIwBYgwQY4AYA8QYIMYAMQaIMUCMAWIMEGOAGAPEGCDGADEGiDFAjAFiDJDHrD98fHpZ/Rqv728bvBOOw6hHArZY/Es6hGlzTO0de4Q2MSLqB2kVI6J2kGEzI+L0Qv3nrL9lwSvOkKEx9nAuTMUY7Y6pScXjqnyMijvgnPIxIvoESbsDz7DVBcReWuyMLsrvjIqD+pzUGJ0Wcgtpx5Qhfku56RsRgjSYb9VygFcMEZEwM/baFVUDLCGupjos5BaGHlMO7cvSZ4a7YpYeQzNjgBgDpFWM6hcIiEvbtapHmJSN0SXAUqkYHQMstZoZ1ZWJ0X1XRBQ4pu4hwiQ9xnKx7/2jkeFfLm35XAb91x5/VWZmTCov9jXlYnQ2PMaa/+zOuyIiaYCfWtRrs6R7iAjA1dTkHhb7GmcGiDFAjAFiDJCSz/R1/SEcJgbxA8HRcTymQDD3GUQ/d+veO6V8jLULRDoe8TGyh+pImAFOk/GllzFAvJoCMQaIMUCMAWIMEGOAGAPEGCDGADEGiDFAjAFiDBBjgBgDxBggxgAxBogxQL4B0Xh01k1kUi0AAAAASUVORK5CYII=\" y=\"-129.14\"/>\n   </g>\n   <g id=\"matplotlib.axis_23\"/>\n   <g id=\"matplotlib.axis_24\"/>\n   <g id=\"patch_58\">\n    <path d=\"M 720.022034 228.14 \nL 720.022034 129.303636 \n\" style=\"fill:none;stroke:#000000;stroke-linecap:square;stroke-linejoin:miter;stroke-width:0.8;\"/>\n   </g>\n   <g id=\"patch_59\">\n    <path d=\"M 818.858398 228.14 \nL 818.858398 129.303636 \n\" style=\"fill:none;stroke:#000000;stroke-linecap:square;stroke-linejoin:miter;stroke-width:0.8;\"/>\n   </g>\n   <g id=\"patch_60\">\n    <path d=\"M 720.022034 228.14 \nL 818.858398 228.14 \n\" style=\"fill:none;stroke:#000000;stroke-linecap:square;stroke-linejoin:miter;stroke-width:0.8;\"/>\n   </g>\n   <g id=\"patch_61\">\n    <path d=\"M 720.022034 129.303636 \nL 818.858398 129.303636 \n\" style=\"fill:none;stroke:#000000;stroke-linecap:square;stroke-linejoin:miter;stroke-width:0.8;\"/>\n   </g>\n   <g id=\"text_6\">\n    <!-- tensor(1) -->\n    <g transform=\"translate(741.830841 123.303636)scale(0.12 -0.12)\">\n     <use xlink:href=\"#DejaVuSans-74\"/>\n     <use x=\"39.208984\" xlink:href=\"#DejaVuSans-65\"/>\n     <use x=\"100.732422\" xlink:href=\"#DejaVuSans-6e\"/>\n     <use x=\"164.111328\" xlink:href=\"#DejaVuSans-73\"/>\n     <use x=\"216.210938\" xlink:href=\"#DejaVuSans-6f\"/>\n     <use x=\"277.392578\" xlink:href=\"#DejaVuSans-72\"/>\n     <use x=\"318.505859\" xlink:href=\"#DejaVuSans-28\"/>\n     <use x=\"357.519531\" xlink:href=\"#DejaVuSans-31\"/>\n     <use x=\"421.142578\" xlink:href=\"#DejaVuSans-29\"/>\n    </g>\n   </g>\n  </g>\n  <g id=\"axes_13\">\n   <g id=\"patch_62\">\n    <path d=\"M 861.886441 109.536364 \nL 960.722804 109.536364 \nL 960.722804 10.7 \nL 861.886441 10.7 \nz\n\" style=\"fill:#ffffff;\"/>\n   </g>\n   <g clip-path=\"url(#pa9d7268756)\">\n    <image height=\"99\" id=\"image994500eccd\" transform=\"scale(1 -1)translate(0 -99)\" width=\"99\" x=\"861.886441\" xlink:href=\"data:image/png;base64,\niVBORw0KGgoAAAANSUhEUgAAAGMAAABjCAYAAACPO76VAAAABHNCSVQICAgIfAhkiAAAAmVJREFUeJztm8FxwjAQRZdMquCcAujCNdMFVZAqMslJwSHYxkJaPWn/m8kpYAk//q5km8PX58e3CQRvrScgbkgGCMkAIRkgJAOEZICQDBCSAUIyQEgGCMkAIRkgJAOEZICQDBCSAUIyQEgGCMkAIRkgJAOEZICQDBCSAUIyQEjGCtPxZNPx5DaeZCzgKSFx0LO2f1mTcL5eqo6tZMxokYY5Sobtk1AzHeGT0ToNc0LLyBFRU957tSPD2Tqp83LklZ6QydgjIuf9uYRLRsul6xahkkEWYRZMxhI5ImqUqhBl6tVEpNfUbuTDJ4NemuZkJYOyUVo7mR4SpuOpqNDhk9ETu5JBSURi73xoZemeEA2cLiGxS8b5enn621iyLpc6Bl0KPhmPTmCuIPrKqssGfr5efv9KkXu/u2QfLZKMPeWrJDXGvD+mZ2KKlSlvIc9eeX11Tp6fKeu263yC998cj2aZewm85okt8XmzkrE2cKuSlcbO+T9l/1SlgbdMRQ6lFwO54Je2c2ovTZdKrhfdPKpD2CMszaHU+F0lozV6onADQq0vRbfJGElCAi/jUZ0eUYTZAGVqJNAyIqXCDCyDsiv2BCvjESOnwgwqI1p5SuBkRCxPCZSMyCLMQPuM2td9egCRjOiJSCBkLBEpFWYAGSpPN5r1DJWm/zRJxqu/qRsVdxkSsYyrDIlYx61nEO5h02m+mhI3qidDiXieKjLUG/JwL1MSsYyrDIlYx02GRGyj1RSIbp61jYCSAUIyQEgGCMkAIRkgJAOEZICQDBCSAUIyQEgGCMkAIRkgJAOEZICQDBCSAeIHz7PM6OMHNGwAAAAASUVORK5CYII=\" y=\"-10.536364\"/>\n   </g>\n   <g id=\"matplotlib.axis_25\"/>\n   <g id=\"matplotlib.axis_26\"/>\n   <g id=\"patch_63\">\n    <path d=\"M 861.886441 109.536364 \nL 861.886441 10.7 \n\" style=\"fill:none;stroke:#000000;stroke-linecap:square;stroke-linejoin:miter;stroke-width:0.8;\"/>\n   </g>\n   <g id=\"patch_64\">\n    <path d=\"M 960.722804 109.536364 \nL 960.722804 10.7 \n\" style=\"fill:none;stroke:#000000;stroke-linecap:square;stroke-linejoin:miter;stroke-width:0.8;\"/>\n   </g>\n   <g id=\"patch_65\">\n    <path d=\"M 861.886441 109.536364 \nL 960.722804 109.536364 \n\" style=\"fill:none;stroke:#000000;stroke-linecap:square;stroke-linejoin:miter;stroke-width:0.8;\"/>\n   </g>\n   <g id=\"patch_66\">\n    <path d=\"M 861.886441 10.7 \nL 960.722804 10.7 \n\" style=\"fill:none;stroke:#000000;stroke-linecap:square;stroke-linejoin:miter;stroke-width:0.8;\"/>\n   </g>\n  </g>\n  <g id=\"axes_14\">\n   <g id=\"patch_67\">\n    <path d=\"M 861.886441 228.14 \nL 960.722804 228.14 \nL 960.722804 129.303636 \nL 861.886441 129.303636 \nz\n\" style=\"fill:#ffffff;\"/>\n   </g>\n   <g clip-path=\"url(#p3d35a257ab)\">\n    <image height=\"99\" id=\"imagec6b83759d9\" transform=\"scale(1 -1)translate(0 -99)\" width=\"99\" x=\"861.886441\" xlink:href=\"data:image/png;base64,\niVBORw0KGgoAAAANSUhEUgAAAGMAAABjCAYAAACPO76VAAAABHNCSVQICAgIfAhkiAAAAlBJREFUeJztm9txwjAQAEUmVfCdAuiCmumCKkgVmeTLicfB2Jb1WFm7M/zwMLKWu5PO5vT1+fEdBMFb7QHIH8oAoQwQygChDBDKAKEMEMoAoQwQygChDBDKAKEMEMoAoQwQygChDBDKAKEMEMoAoQwQygChDBDKAKEMEMoA8V57AC1wPV+ePn973JN+j5GxwJyIpddiUAYIZbwg9S9/iZN/CfjPVgmpaoeRsYHUBXuKMibEpKZU6cyl7YhSS9g5ikXG9Xz5fRBZO66cYqqkKZqYV+NYO/kpziX7aip2kKVSQ6yIZ5/bO+bsNWMY4FYp0/eXklPr+0JoqIDnkENJkwPFZDybvD2TsSfPp6gROXCfAQLfDkmRStbUra0RkWNPgq8Z05PLsUOumZrGNJembo970smLPVYOgfjImGNuMrZEDiUiBpqVMcd4gpfEDK9TpDSXpnKQsjWz5ziHlVGiFe4NCSvItZnMzaFqxpYl7NJdHzXqyGEiY2lDN53cPS2TXDQfGXsmbWlnXnq11XRk0Lque8H3pubI0eJIVXNiI6k5GWuiYU9aSdmY3EpTNaNEwy/2ymQKmomMGheESm8Cmy7gRwMdGdTLo7nARkZvIkKAyuhRRAhAGb2KCAEmo2cRIYD2GbXvACeAiIyj9ZhiqS6j99Q0prqMOXoTEQJURo8iQoDK6BVlgED3pnrDyAChDBDKAKEMEMoAoQwQygChDBDKAKEMEMoAoQwQygChDBDKAKEMEMoAoQwQygChDBDKAKEMEMoAoQwQygChDBDKAPEDykHIcmPPqCAAAAAASUVORK5CYII=\" y=\"-129.14\"/>\n   </g>\n   <g id=\"matplotlib.axis_27\"/>\n   <g id=\"matplotlib.axis_28\"/>\n   <g id=\"patch_68\">\n    <path d=\"M 861.886441 228.14 \nL 861.886441 129.303636 \n\" style=\"fill:none;stroke:#000000;stroke-linecap:square;stroke-linejoin:miter;stroke-width:0.8;\"/>\n   </g>\n   <g id=\"patch_69\">\n    <path d=\"M 960.722804 228.14 \nL 960.722804 129.303636 \n\" style=\"fill:none;stroke:#000000;stroke-linecap:square;stroke-linejoin:miter;stroke-width:0.8;\"/>\n   </g>\n   <g id=\"patch_70\">\n    <path d=\"M 861.886441 228.14 \nL 960.722804 228.14 \n\" style=\"fill:none;stroke:#000000;stroke-linecap:square;stroke-linejoin:miter;stroke-width:0.8;\"/>\n   </g>\n   <g id=\"patch_71\">\n    <path d=\"M 861.886441 129.303636 \nL 960.722804 129.303636 \n\" style=\"fill:none;stroke:#000000;stroke-linecap:square;stroke-linejoin:miter;stroke-width:0.8;\"/>\n   </g>\n   <g id=\"text_7\">\n    <!-- tensor(1) -->\n    <g transform=\"translate(883.695247 123.303636)scale(0.12 -0.12)\">\n     <use xlink:href=\"#DejaVuSans-74\"/>\n     <use x=\"39.208984\" xlink:href=\"#DejaVuSans-65\"/>\n     <use x=\"100.732422\" xlink:href=\"#DejaVuSans-6e\"/>\n     <use x=\"164.111328\" xlink:href=\"#DejaVuSans-73\"/>\n     <use x=\"216.210938\" xlink:href=\"#DejaVuSans-6f\"/>\n     <use x=\"277.392578\" xlink:href=\"#DejaVuSans-72\"/>\n     <use x=\"318.505859\" xlink:href=\"#DejaVuSans-28\"/>\n     <use x=\"357.519531\" xlink:href=\"#DejaVuSans-31\"/>\n     <use x=\"421.142578\" xlink:href=\"#DejaVuSans-29\"/>\n    </g>\n   </g>\n  </g>\n  <g id=\"axes_15\">\n   <g id=\"patch_72\">\n    <path d=\"M 1003.750847 109.536364 \nL 1102.587211 109.536364 \nL 1102.587211 10.7 \nL 1003.750847 10.7 \nz\n\" style=\"fill:#ffffff;\"/>\n   </g>\n   <g clip-path=\"url(#pf6a6fb542f)\">\n    <image height=\"99\" id=\"imagefe63a5c41d\" transform=\"scale(1 -1)translate(0 -99)\" width=\"99\" x=\"1003.750847\" xlink:href=\"data:image/png;base64,\niVBORw0KGgoAAAANSUhEUgAAAGMAAABjCAYAAACPO76VAAAABHNCSVQICAgIfAhkiAAAAdxJREFUeJzt29FRwkAURuGLYxU8WwBdUDNdUAVW4egLGWcYAkHD/U/IOQXAmm93swHcfH1+fJcheksPwH4TA5QYoMQAJQYoMUCJAUoMUGKAEgOUGKDEACUGKDFAiQFKDFBigBIDlBigxAAlBigxQIkBSgxQYoASA5QYoMQAJQYoMUCJAUoMUGKAEgOUGKDe0wN4tP12N+vrHU7HWV/vP22W8g+WcyNcRkBBYjz7wo+VBsFgpACulUKJYvwVYI6LNeW9u1E8TYGKrYx7M7N7Vo6Np3MckZVxC+JwOkb27PTNuyqAcQ+CVufBAnPPIEJ0h8CgQKTH0YpBepYgFl8Z6dl4WXI8cYz9dueKORfHWEJdE6YVg7YljZUaZ/vKGPtD3apC25Qg18PdM9YMEsO4tS+vFQS3MoaSIKn3xn/T13WyIXyAiV0ZawyzMqoys5P09SsKo6r34pAgqoAYVYzTVOIpHHnPSH9sssqf6kypc5WkJwEeY8ifdwJ7BgoBomqBGFOaCkZBGHpJjKH0U/2jvTTG0kIebdeaGKDEACUGKDFAiQFKDFBigBIDlBigxAAlBigxQIkBSgxQYoASA5QYoMQAJQYoMUCJAUoMUGKAEgOUGKDEACUGKDFAiQHqBxESnAf1+hDZAAAAAElFTkSuQmCC\" y=\"-10.536364\"/>\n   </g>\n   <g id=\"matplotlib.axis_29\"/>\n   <g id=\"matplotlib.axis_30\"/>\n   <g id=\"patch_73\">\n    <path d=\"M 1003.750847 109.536364 \nL 1003.750847 10.7 \n\" style=\"fill:none;stroke:#000000;stroke-linecap:square;stroke-linejoin:miter;stroke-width:0.8;\"/>\n   </g>\n   <g id=\"patch_74\">\n    <path d=\"M 1102.587211 109.536364 \nL 1102.587211 10.7 \n\" style=\"fill:none;stroke:#000000;stroke-linecap:square;stroke-linejoin:miter;stroke-width:0.8;\"/>\n   </g>\n   <g id=\"patch_75\">\n    <path d=\"M 1003.750847 109.536364 \nL 1102.587211 109.536364 \n\" style=\"fill:none;stroke:#000000;stroke-linecap:square;stroke-linejoin:miter;stroke-width:0.8;\"/>\n   </g>\n   <g id=\"patch_76\">\n    <path d=\"M 1003.750847 10.7 \nL 1102.587211 10.7 \n\" style=\"fill:none;stroke:#000000;stroke-linecap:square;stroke-linejoin:miter;stroke-width:0.8;\"/>\n   </g>\n  </g>\n  <g id=\"axes_16\">\n   <g id=\"patch_77\">\n    <path d=\"M 1003.750847 228.14 \nL 1102.587211 228.14 \nL 1102.587211 129.303636 \nL 1003.750847 129.303636 \nz\n\" style=\"fill:#ffffff;\"/>\n   </g>\n   <g clip-path=\"url(#paf226a8499)\">\n    <image height=\"99\" id=\"image5b764e7b8a\" transform=\"scale(1 -1)translate(0 -99)\" width=\"99\" x=\"1003.750847\" xlink:href=\"data:image/png;base64,\niVBORw0KGgoAAAANSUhEUgAAAGMAAABjCAYAAACPO76VAAAABHNCSVQICAgIfAhkiAAAAd1JREFUeJzt3FFugkAUQFFsXAXfXQC7YM3uwlXYVTTtF4GgIhDmvQvc82+cenkzaEgvvz/ff5UQvrIXoJ4xQIwBYgwQY4AYA8QYIMYAMQaIMUCMAWIMEGOAGAPEGCDGADEGiDFAjAFiDBBjgBgDxBggxgAxBogxQIwBYgwQY4AYA8QYIMYAMQaIMUCMAWIMEGOAGAPEGCDGADEGiDFAjAFiDBBjgBgD5Jq9gFfauln8mtvjXmAlsS6k/ze1JsJaxHiYGJEhxihh0mJkfvhzRUfyAAdJiTF3KrK3j+jpDd+m5vyBryK0dbNJHPKdWmiMtSFKo0wq4ntG9nbUvX/2TUX6AZ4dYujTWkrHQmxTpCBjkWtOnwz1QmO8u5qy9+opkVMbPhnkLWmJEheQ29QMt8c95CLCxCBvVVFSYhxlq9oaZjJkDBRUjLOfG2kxPDeeoSajqpjT0dbN07oO93PIHr+Rl4SbjM4Zg6THmBr3swXZzaM60Qf+1HpKrQUTo7N0GpZ8MFtMWsmLIn2bUg83GUOUM+OQT4escabHPvExxkrEofwasLsYQyUP+wy7jnE03k2BGAPEGCDGADEGiDFAjAFiDBBjgBgDxBggxgAxBogxQIwBYgwQY4AYA8QYIP+lTJCO7lvFFAAAAABJRU5ErkJggg==\" y=\"-129.14\"/>\n   </g>\n   <g id=\"matplotlib.axis_31\"/>\n   <g id=\"matplotlib.axis_32\"/>\n   <g id=\"patch_78\">\n    <path d=\"M 1003.750847 228.14 \nL 1003.750847 129.303636 \n\" style=\"fill:none;stroke:#000000;stroke-linecap:square;stroke-linejoin:miter;stroke-width:0.8;\"/>\n   </g>\n   <g id=\"patch_79\">\n    <path d=\"M 1102.587211 228.14 \nL 1102.587211 129.303636 \n\" style=\"fill:none;stroke:#000000;stroke-linecap:square;stroke-linejoin:miter;stroke-width:0.8;\"/>\n   </g>\n   <g id=\"patch_80\">\n    <path d=\"M 1003.750847 228.14 \nL 1102.587211 228.14 \n\" style=\"fill:none;stroke:#000000;stroke-linecap:square;stroke-linejoin:miter;stroke-width:0.8;\"/>\n   </g>\n   <g id=\"patch_81\">\n    <path d=\"M 1003.750847 129.303636 \nL 1102.587211 129.303636 \n\" style=\"fill:none;stroke:#000000;stroke-linecap:square;stroke-linejoin:miter;stroke-width:0.8;\"/>\n   </g>\n   <g id=\"text_8\">\n    <!-- tensor(1) -->\n    <g transform=\"translate(1025.559654 123.303636)scale(0.12 -0.12)\">\n     <use xlink:href=\"#DejaVuSans-74\"/>\n     <use x=\"39.208984\" xlink:href=\"#DejaVuSans-65\"/>\n     <use x=\"100.732422\" xlink:href=\"#DejaVuSans-6e\"/>\n     <use x=\"164.111328\" xlink:href=\"#DejaVuSans-73\"/>\n     <use x=\"216.210938\" xlink:href=\"#DejaVuSans-6f\"/>\n     <use x=\"277.392578\" xlink:href=\"#DejaVuSans-72\"/>\n     <use x=\"318.505859\" xlink:href=\"#DejaVuSans-28\"/>\n     <use x=\"357.519531\" xlink:href=\"#DejaVuSans-31\"/>\n     <use x=\"421.142578\" xlink:href=\"#DejaVuSans-29\"/>\n    </g>\n   </g>\n  </g>\n  <g id=\"axes_17\">\n   <g id=\"patch_82\">\n    <path d=\"M 1145.615254 109.536364 \nL 1244.451618 109.536364 \nL 1244.451618 10.7 \nL 1145.615254 10.7 \nz\n\" style=\"fill:#ffffff;\"/>\n   </g>\n   <g clip-path=\"url(#p0d3638bde6)\">\n    <image height=\"99\" id=\"imagef9455a7e5f\" transform=\"scale(1 -1)translate(0 -99)\" width=\"99\" x=\"1145.615254\" xlink:href=\"data:image/png;base64,\niVBORw0KGgoAAAANSUhEUgAAAGMAAABjCAYAAACPO76VAAAABHNCSVQICAgIfAhkiAAAAnJJREFUeJztnMFxwjAQRU0mVXBOAemCmumCKkgVmeTkwdhYtuSV9Hb578QkM5Do+a9Wlszp9+frbxAIPnr/AeKBZICQDBCSAeKzxptezt+Ln13vtxofFYqTZTf1SsIcSVnHTMYeEVMkZYnmDBBVZaSu/sv5OztN0VEyQFSVoSs/DyUDhJmMku5IHdUzpsnIGVyJWNKlTEnEa8xlaKDLqZIMCSmjWpm63m+SkolaWxCSAUIyQEgGCMkAUWXbtTfzG5ReujolA0SYZKRu14+/oyckRDL27pvQ91fcy8gdYLIQ9zJSrJUlqhC3MrYONIwi6PPEFJcytq7sPQKI6XApI0VOEmhC3MkoGcD57fzpa5IQdzLWyNk/mQugCHElY23Q9krYOuHYGzcyrAaLLAQvY28La/l5vcDLSFEqgrr2QMuomQhiuULetW1Vlsb36j1XjKCT8W7gZKTa15a1vkdaTB+wfEWLf+qopJbdWgpcMkqI8kgacgIvxbuQEMmoSUvB1WXoAPR+mpWp3J7e6wbREZrPGZYLLeq+RCldJvAareSRUkgRWX2dMcVi7zoyzbopidhGrS2I7os+JeJB12RIxDPdZEjEkuplitI2ekATOIhqyTh6xukdMZWhtcQxzMqURByn2Tqj9MDyO9F90Zfi3dLmupuK1ja7ljEMsYR0/cJI8YzpnGElJNLVngNyAiceSm6B+zljGOIICiEjCu5kRG4U3MlYI0KpcikjajpcyoiKZICQDBCSAUIyQEgGCMkAIRkgJAOEZIBo+rCMSKNkgJAMEJIBQjJASAYIyQAhGSAkA4RkgJAMEJIBQjJASAYIyQDxD57BzQvXkX35AAAAAElFTkSuQmCC\" y=\"-10.536364\"/>\n   </g>\n   <g id=\"matplotlib.axis_33\"/>\n   <g id=\"matplotlib.axis_34\"/>\n   <g id=\"patch_83\">\n    <path d=\"M 1145.615254 109.536364 \nL 1145.615254 10.7 \n\" style=\"fill:none;stroke:#000000;stroke-linecap:square;stroke-linejoin:miter;stroke-width:0.8;\"/>\n   </g>\n   <g id=\"patch_84\">\n    <path d=\"M 1244.451618 109.536364 \nL 1244.451618 10.7 \n\" style=\"fill:none;stroke:#000000;stroke-linecap:square;stroke-linejoin:miter;stroke-width:0.8;\"/>\n   </g>\n   <g id=\"patch_85\">\n    <path d=\"M 1145.615254 109.536364 \nL 1244.451618 109.536364 \n\" style=\"fill:none;stroke:#000000;stroke-linecap:square;stroke-linejoin:miter;stroke-width:0.8;\"/>\n   </g>\n   <g id=\"patch_86\">\n    <path d=\"M 1145.615254 10.7 \nL 1244.451618 10.7 \n\" style=\"fill:none;stroke:#000000;stroke-linecap:square;stroke-linejoin:miter;stroke-width:0.8;\"/>\n   </g>\n  </g>\n  <g id=\"axes_18\">\n   <g id=\"patch_87\">\n    <path d=\"M 1145.615254 228.14 \nL 1244.451618 228.14 \nL 1244.451618 129.303636 \nL 1145.615254 129.303636 \nz\n\" style=\"fill:#ffffff;\"/>\n   </g>\n   <g clip-path=\"url(#p6ec04fb3d5)\">\n    <image height=\"99\" id=\"image755e421006\" transform=\"scale(1 -1)translate(0 -99)\" width=\"99\" x=\"1145.615254\" xlink:href=\"data:image/png;base64,\niVBORw0KGgoAAAANSUhEUgAAAGMAAABjCAYAAACPO76VAAAABHNCSVQICAgIfAhkiAAAAltJREFUeJzt3F1uwjAQRWFTdRU8dwHsgjWzi6yCrqJqH1AqiJLggDNzZnyPVPWhPyB/NbEN5fDz/fVbDDsfT1Xfd7kOO98TXh/ed2CpWrRMmWL0OMBbws6MUvrDQ2P0ljBACQOUMEAJA5QwQAkDlCnG1iOO3o5EMDNjOvC9QZQCwRgHfvq5txAY9/UKUQoQo+eEAUoYoIQBShighAFKGKCEAUoYoBAY5+OpuxcfzIXAULfMMXo+e3rWp8eNXq5D04elud8VEd0Fo1VroOPXIqGkv2ZEWhikxyglzmotLMYrg0sHCYsxV831gQwSEmNtQGtBiA9dITHmukfYsoIigbhgWAzA5Tr8fxDuT01pZsZaNSgEEAyGxeasBsTzWoLBqO3dgapF9wAJh9GiLdcSS5TQZ1Njrz7E3f+crhnqoVAzY8+/3rVZYnUCHGZmLEHsMUBex+5hMOaK9FxFTaExsoXHWFpeesyKvVdceAyPtAOfyWNQPPcb2KXtu89ZtLgd6zAYWwaFNIAtw2CQs1osCGMl6xWbMCZ5biQP1u/eOUZ63Kfs5N0wxp6hUAbKItd9hiAec7tmWO0jIoXegfeW+czQjFgO847PvUOUYohBWspSw2z6WmBFn126gIMSBihhgBIGKPezqVeivEChdZoZoIQBKhxG5s1jKIzMEKUEw1grA1Sa1dRY5FVVmpmRoZAYtf+TF62QGFkTBihhgBIGKGGAEgYoYYASBihhgEqHQXzvwdrSYUROGKCEASo0RraT25BPLmUt9MzIljBACQOUMEAJA5QwQAkDlDBA/QEni7GtrhaafwAAAABJRU5ErkJggg==\" y=\"-129.14\"/>\n   </g>\n   <g id=\"matplotlib.axis_35\"/>\n   <g id=\"matplotlib.axis_36\"/>\n   <g id=\"patch_88\">\n    <path d=\"M 1145.615254 228.14 \nL 1145.615254 129.303636 \n\" style=\"fill:none;stroke:#000000;stroke-linecap:square;stroke-linejoin:miter;stroke-width:0.8;\"/>\n   </g>\n   <g id=\"patch_89\">\n    <path d=\"M 1244.451618 228.14 \nL 1244.451618 129.303636 \n\" style=\"fill:none;stroke:#000000;stroke-linecap:square;stroke-linejoin:miter;stroke-width:0.8;\"/>\n   </g>\n   <g id=\"patch_90\">\n    <path d=\"M 1145.615254 228.14 \nL 1244.451618 228.14 \n\" style=\"fill:none;stroke:#000000;stroke-linecap:square;stroke-linejoin:miter;stroke-width:0.8;\"/>\n   </g>\n   <g id=\"patch_91\">\n    <path d=\"M 1145.615254 129.303636 \nL 1244.451618 129.303636 \n\" style=\"fill:none;stroke:#000000;stroke-linecap:square;stroke-linejoin:miter;stroke-width:0.8;\"/>\n   </g>\n   <g id=\"text_9\">\n    <!-- tensor(1) -->\n    <g transform=\"translate(1167.424061 123.303636)scale(0.12 -0.12)\">\n     <use xlink:href=\"#DejaVuSans-74\"/>\n     <use x=\"39.208984\" xlink:href=\"#DejaVuSans-65\"/>\n     <use x=\"100.732422\" xlink:href=\"#DejaVuSans-6e\"/>\n     <use x=\"164.111328\" xlink:href=\"#DejaVuSans-73\"/>\n     <use x=\"216.210938\" xlink:href=\"#DejaVuSans-6f\"/>\n     <use x=\"277.392578\" xlink:href=\"#DejaVuSans-72\"/>\n     <use x=\"318.505859\" xlink:href=\"#DejaVuSans-28\"/>\n     <use x=\"357.519531\" xlink:href=\"#DejaVuSans-31\"/>\n     <use x=\"421.142578\" xlink:href=\"#DejaVuSans-29\"/>\n    </g>\n   </g>\n  </g>\n  <g id=\"axes_19\">\n   <g id=\"patch_92\">\n    <path d=\"M 1287.479661 109.536364 \nL 1386.316025 109.536364 \nL 1386.316025 10.7 \nL 1287.479661 10.7 \nz\n\" style=\"fill:#ffffff;\"/>\n   </g>\n   <g clip-path=\"url(#p3964c34d5a)\">\n    <image height=\"99\" id=\"image4a4aae274b\" transform=\"scale(1 -1)translate(0 -99)\" width=\"99\" x=\"1287.479661\" xlink:href=\"data:image/png;base64,\niVBORw0KGgoAAAANSUhEUgAAAGMAAABjCAYAAACPO76VAAAABHNCSVQICAgIfAhkiAAAAi9JREFUeJzt3EtOAkEUQNHSuArGLoBdsGZ2wSpwFUYHhkiwGii7PvdV3zNyQIT0pV/1L7x8frx/JSG8jv4A+mUMEGOAGAPEGCDGADEGiDFAjAFiDBBjgBgDxBggxgAxBogxQIwBYgwQY4AYA8QYIMYAeRv9AR457PZPv/Z4PjX8JO29kJ+bKgmREy2OYwoEHWPtN3vtntUbekyVuLfho4yraWKk9HhPoEdBj6lS9I39yFQxUoodZLoYKf0EiRhlyhhL6EdXm4pBN3WM3Kgi7x1Tx1hCDTJ9jEgL+fQxItlsjMNujxtXm41BtIkYUU4CNxEjCmOAGAPEGCDGADEGiDFAjAFiDBBjgBgDxBgg+KfQL5653B3hYuA9+D2j5L4D7f5EKXyMUpGDNBlTuQ3Sc4QcdvuQI6t6jKVvZq0NdPs/7r1f7vVk042pyLrGaPEQwOWW6tIeEGkNGbJntHoyI9JIyhl6nnEdpNaGPJ5Pf0JH2TswJ323G2xNnFyQCJqPqSiPyRB0WzNKg0T8Zq/VdQEv3UvWBHn2fUiPeTZfM3InX9d/UzYEwfAFvGWYkoW85gHEf1UfU2uPgmqLdPCAuxxCOfoaMT6Hj6klNc8VolwqwcZIaXsLfbPfDmmxIPa4TzHyXki3GCnFWkxHwC3gW2YMkGYxHEnlpvrxr+gcUyDGADEGiDFAjAFiDBBjgBgDxBggxgAxBogxQIwBYgwQY4AYA8QYIMYAMQaIMUCMAfINguytUmZLxWoAAAAASUVORK5CYII=\" y=\"-10.536364\"/>\n   </g>\n   <g id=\"matplotlib.axis_37\"/>\n   <g id=\"matplotlib.axis_38\"/>\n   <g id=\"patch_93\">\n    <path d=\"M 1287.479661 109.536364 \nL 1287.479661 10.7 \n\" style=\"fill:none;stroke:#000000;stroke-linecap:square;stroke-linejoin:miter;stroke-width:0.8;\"/>\n   </g>\n   <g id=\"patch_94\">\n    <path d=\"M 1386.316025 109.536364 \nL 1386.316025 10.7 \n\" style=\"fill:none;stroke:#000000;stroke-linecap:square;stroke-linejoin:miter;stroke-width:0.8;\"/>\n   </g>\n   <g id=\"patch_95\">\n    <path d=\"M 1287.479661 109.536364 \nL 1386.316025 109.536364 \n\" style=\"fill:none;stroke:#000000;stroke-linecap:square;stroke-linejoin:miter;stroke-width:0.8;\"/>\n   </g>\n   <g id=\"patch_96\">\n    <path d=\"M 1287.479661 10.7 \nL 1386.316025 10.7 \n\" style=\"fill:none;stroke:#000000;stroke-linecap:square;stroke-linejoin:miter;stroke-width:0.8;\"/>\n   </g>\n  </g>\n  <g id=\"axes_20\">\n   <g id=\"patch_97\">\n    <path d=\"M 1287.479661 228.14 \nL 1386.316025 228.14 \nL 1386.316025 129.303636 \nL 1287.479661 129.303636 \nz\n\" style=\"fill:#ffffff;\"/>\n   </g>\n   <g clip-path=\"url(#p24ab1c3b4d)\">\n    <image height=\"99\" id=\"imageee4ac35c5c\" transform=\"scale(1 -1)translate(0 -99)\" width=\"99\" x=\"1287.479661\" xlink:href=\"data:image/png;base64,\niVBORw0KGgoAAAANSUhEUgAAAGMAAABjCAYAAACPO76VAAAABHNCSVQICAgIfAhkiAAAAhxJREFUeJzt3NttwjAYQGFTdQqeOwBbMDNbMAWdomofUFQUOReHXM5vn+8VVUp9sB3S4tPP99dvEsLH0Regf8YAMQaIMUCMAWIMEGOAGAPk8+gLKHU9XwZfuz3uO17J+qqaGdfzZTQWXVUxOlGjhItRshRFC3KK/qBwzoBH2UvCx+jUECXcMjXk9rjjB3tKNTE6Y0Hoe0g1y1TO0OBTZ1B1M+PV0KBTZ0jVMVKKFaT6GJFUvWf05WYDaf9wZoA0H4O0dzQVg76ZNxWDrqkN/BVxM3dmgBgDxBggxgAxBogxQIwBYgwQY4AYA8QYIMYAMQaIMUCMAWIMEGOANBmD+Fe+lBqNQWUMEGOAGAPEGCDGADEGiDFAjAFiDJDmYlD+/T+nuRg5hOdSKQU8byon2ve9hzgzQEJ/WWbu+t/NEOqj807YmUHeiJcKuWeUhogSbrcY/QFZujxMHRgZZeBzDlumlpwjOOfkTtIeUGrzmTE14N3r7wxi/2fHNmyyTWdGyWDMjVYi2izZJMbSo0y3GPBIQVb9nLH2sjC1IZcONP1zxq63tv1f/J2lackg0u+2drubyg3eEe9K0kzo2zzG1BGnS9/h76AGQTwOmXsm7Zpn1xKDIB8U1vJIvBQyRqsQy5SejAFiDBBjgBgDxBggxgAxBogxQIwBYgwQY4AYA8QYIMYAMQaIMUCMAWIMEGOAGAPEGCDGADEGiDFA/gDtr63tk5BQfgAAAABJRU5ErkJggg==\" y=\"-129.14\"/>\n   </g>\n   <g id=\"matplotlib.axis_39\"/>\n   <g id=\"matplotlib.axis_40\"/>\n   <g id=\"patch_98\">\n    <path d=\"M 1287.479661 228.14 \nL 1287.479661 129.303636 \n\" style=\"fill:none;stroke:#000000;stroke-linecap:square;stroke-linejoin:miter;stroke-width:0.8;\"/>\n   </g>\n   <g id=\"patch_99\">\n    <path d=\"M 1386.316025 228.14 \nL 1386.316025 129.303636 \n\" style=\"fill:none;stroke:#000000;stroke-linecap:square;stroke-linejoin:miter;stroke-width:0.8;\"/>\n   </g>\n   <g id=\"patch_100\">\n    <path d=\"M 1287.479661 228.14 \nL 1386.316025 228.14 \n\" style=\"fill:none;stroke:#000000;stroke-linecap:square;stroke-linejoin:miter;stroke-width:0.8;\"/>\n   </g>\n   <g id=\"patch_101\">\n    <path d=\"M 1287.479661 129.303636 \nL 1386.316025 129.303636 \n\" style=\"fill:none;stroke:#000000;stroke-linecap:square;stroke-linejoin:miter;stroke-width:0.8;\"/>\n   </g>\n   <g id=\"text_10\">\n    <!-- tensor(1) -->\n    <g transform=\"translate(1309.288468 123.303636)scale(0.12 -0.12)\">\n     <use xlink:href=\"#DejaVuSans-74\"/>\n     <use x=\"39.208984\" xlink:href=\"#DejaVuSans-65\"/>\n     <use x=\"100.732422\" xlink:href=\"#DejaVuSans-6e\"/>\n     <use x=\"164.111328\" xlink:href=\"#DejaVuSans-73\"/>\n     <use x=\"216.210938\" xlink:href=\"#DejaVuSans-6f\"/>\n     <use x=\"277.392578\" xlink:href=\"#DejaVuSans-72\"/>\n     <use x=\"318.505859\" xlink:href=\"#DejaVuSans-28\"/>\n     <use x=\"357.519531\" xlink:href=\"#DejaVuSans-31\"/>\n     <use x=\"421.142578\" xlink:href=\"#DejaVuSans-29\"/>\n    </g>\n   </g>\n  </g>\n </g>\n <defs>\n  <clipPath id=\"p54dfa9917e\">\n   <rect height=\"98.836364\" width=\"98.836364\" x=\"10.7\" y=\"10.7\"/>\n  </clipPath>\n  <clipPath id=\"p22aef1cdba\">\n   <rect height=\"98.836364\" width=\"98.836364\" x=\"10.7\" y=\"129.303636\"/>\n  </clipPath>\n  <clipPath id=\"p06216b80b0\">\n   <rect height=\"98.836364\" width=\"98.836364\" x=\"152.564407\" y=\"10.7\"/>\n  </clipPath>\n  <clipPath id=\"pbff8444506\">\n   <rect height=\"98.836364\" width=\"98.836364\" x=\"152.564407\" y=\"129.303636\"/>\n  </clipPath>\n  <clipPath id=\"p419a000257\">\n   <rect height=\"98.836364\" width=\"98.836364\" x=\"294.428814\" y=\"10.7\"/>\n  </clipPath>\n  <clipPath id=\"p6f79498745\">\n   <rect height=\"98.836364\" width=\"98.836364\" x=\"294.428814\" y=\"129.303636\"/>\n  </clipPath>\n  <clipPath id=\"p64d4c7f1b3\">\n   <rect height=\"98.836364\" width=\"98.836364\" x=\"436.29322\" y=\"10.7\"/>\n  </clipPath>\n  <clipPath id=\"p65cd442f35\">\n   <rect height=\"98.836364\" width=\"98.836364\" x=\"436.29322\" y=\"129.303636\"/>\n  </clipPath>\n  <clipPath id=\"p4898c89249\">\n   <rect height=\"98.836364\" width=\"98.836364\" x=\"578.157627\" y=\"10.7\"/>\n  </clipPath>\n  <clipPath id=\"pfc36cf81c0\">\n   <rect height=\"98.836364\" width=\"98.836364\" x=\"578.157627\" y=\"129.303636\"/>\n  </clipPath>\n  <clipPath id=\"p537def5c1e\">\n   <rect height=\"98.836364\" width=\"98.836364\" x=\"720.022034\" y=\"10.7\"/>\n  </clipPath>\n  <clipPath id=\"p80ee07c260\">\n   <rect height=\"98.836364\" width=\"98.836364\" x=\"720.022034\" y=\"129.303636\"/>\n  </clipPath>\n  <clipPath id=\"pa9d7268756\">\n   <rect height=\"98.836364\" width=\"98.836364\" x=\"861.886441\" y=\"10.7\"/>\n  </clipPath>\n  <clipPath id=\"p3d35a257ab\">\n   <rect height=\"98.836364\" width=\"98.836364\" x=\"861.886441\" y=\"129.303636\"/>\n  </clipPath>\n  <clipPath id=\"pf6a6fb542f\">\n   <rect height=\"98.836364\" width=\"98.836364\" x=\"1003.750847\" y=\"10.7\"/>\n  </clipPath>\n  <clipPath id=\"paf226a8499\">\n   <rect height=\"98.836364\" width=\"98.836364\" x=\"1003.750847\" y=\"129.303636\"/>\n  </clipPath>\n  <clipPath id=\"p0d3638bde6\">\n   <rect height=\"98.836364\" width=\"98.836364\" x=\"1145.615254\" y=\"10.7\"/>\n  </clipPath>\n  <clipPath id=\"p6ec04fb3d5\">\n   <rect height=\"98.836364\" width=\"98.836364\" x=\"1145.615254\" y=\"129.303636\"/>\n  </clipPath>\n  <clipPath id=\"p3964c34d5a\">\n   <rect height=\"98.836364\" width=\"98.836364\" x=\"1287.479661\" y=\"10.7\"/>\n  </clipPath>\n  <clipPath id=\"p24ab1c3b4d\">\n   <rect height=\"98.836364\" width=\"98.836364\" x=\"1287.479661\" y=\"129.303636\"/>\n  </clipPath>\n </defs>\n</svg>\n",
      "image/png": "[encoded data removed]"
     },
     "metadata": {}
    }
   ],
   "source": [
    "pair_0, pair_1, labels = next(iter(train_loader))\n",
    "fig = plt.figure(figsize=(25,4))\n",
    "for i in range(10):\n",
    "    ax1 = fig.add_subplot(2, 10, i+1, xticks=[], yticks=[])\n",
    "    img1 = pair_0[i].numpy().squeeze(0)\n",
    "    plt.imshow(img1)\n",
    "    \n",
    "    ax2 = fig.add_subplot(2, 10, i+11, xticks=[], yticks=[])\n",
    "    img2 = pair_1[i].numpy().squeeze(0)\n",
    "    plt.imshow(img2)\n",
    "    ax2.set_title(labels[i])"
   ]
  },
  {
   "cell_type": "code",
   "execution_count": 9,
   "metadata": {},
   "outputs": [],
   "source": [
    "class SiameseNet(nn.Module):\n",
    "    def __init__(self):\n",
    "        super(SiameseNet, self).__init__()\n",
    "        \n",
    "        ###Kernals\n",
    "        self.conv1 = nn.Conv2d(1,64,10)\n",
    "        self.conv2 = nn.Conv2d(64,128,7)\n",
    "        self.conv3 = nn.Conv2d(128, 128, 4)\n",
    "        self.conv4 = nn.Conv2d(128, 256, 4)\n",
    "\n",
    "        ###Batch Norm\n",
    "        self.bn1 = nn.BatchNorm2d(64)\n",
    "        self.bn2 = nn.BatchNorm2d(128)\n",
    "        self.bn3 = nn.BatchNorm2d(128)\n",
    "        self.bn4 = nn.BatchNorm2d(256)\n",
    "        \n",
    "        ####Dropout\n",
    "        self.dropout1 = nn.Dropout(0.1)\n",
    "        self.dropout2 = nn.Dropout(0.5)\n",
    "\n",
    "        ###FC layer\n",
    "        self.fc1 = nn.Linear(256*6*6, 4096)\n",
    "        self.fcOut = nn.Linear(4096, 1)\n",
    "\n",
    "        ###Final output\n",
    "        self.sigmoid = nn.Sigmoid()\n",
    "\n",
    "    def convs(self, x):\n",
    "        # 1, 105, 105\n",
    "        x = F.relu(self.bn1(self.conv1(x)))\n",
    "        # 64, 96, 96\n",
    "        x = F.max_poo2d(x, (2,2))\n",
    "        # 64, 48, 48\n",
    "        x = F.relu(self.bn2(self.conv2(x)))\n",
    "        # 128, 42, 42\n",
    "        x = F.max_pool2d(x, (2,2))\n",
    "        # 128, 21, 21\n",
    "        x = F.relu(self.bn3(self.conv3(x)))\n",
    "        #128, 18, 18\n",
    "        x = F.max_pool2d(x, (2,2))\n",
    "        #128, 9, 9\n",
    "        x = F.relu(self.bn4(self.conv4(x)))\n",
    "        #256, 6, 6\n",
    "\n",
    "        return x\n",
    "\n",
    "    def forward(self, x1, x2):\n",
    "        x1 = self.convs(x1)\n",
    "        x1 = x1.view(-1, 256*6*6)\n",
    "        x1 = self.sigmoid(self.fc1(x1))\n",
    "\n",
    "        x2 = self.convs(x2)\n",
    "        x2 = x2.view(-1, 256*6*6)\n",
    "        x2 = self.sigmoid(self.fc1(x2))\n",
    "\n",
    "        x = torch.abs(x1-x2)\n",
    "        x = self.fcOut(x)\n",
    "\n",
    "        return x      "
   ]
  },
  {
   "cell_type": "code",
   "execution_count": 11,
   "metadata": {},
   "outputs": [],
   "source": [
    "model = SiameseNet()"
   ]
  },
  {
   "cell_type": "code",
   "execution_count": 14,
   "metadata": {},
   "outputs": [
    {
     "output_type": "execute_result",
     "data": {
      "text/plain": "<bound method Module.parameters of SiameseNet(\n  (conv1): Conv2d(1, 64, kernel_size=(10, 10), stride=(1, 1))\n  (conv2): Conv2d(64, 128, kernel_size=(7, 7), stride=(1, 1))\n  (conv3): Conv2d(128, 128, kernel_size=(4, 4), stride=(1, 1))\n  (conv4): Conv2d(128, 256, kernel_size=(4, 4), stride=(1, 1))\n  (bn1): BatchNorm2d(64, eps=1e-05, momentum=0.1, affine=True, track_running_stats=True)\n  (bn2): BatchNorm2d(128, eps=1e-05, momentum=0.1, affine=True, track_running_stats=True)\n  (bn3): BatchNorm2d(128, eps=1e-05, momentum=0.1, affine=True, track_running_stats=True)\n  (bn4): BatchNorm2d(256, eps=1e-05, momentum=0.1, affine=True, track_running_stats=True)\n  (dropout1): Dropout(p=0.1)\n  (dropout2): Dropout(p=0.5)\n  (fc1): Linear(in_features=9216, out_features=4096, bias=True)\n  (fcOut): Linear(in_features=4096, out_features=1, bias=True)\n  (sigmoid): Sigmoid()\n)>"
     },
     "metadata": {},
     "execution_count": 14
    }
   ],
   "source": [
    "model.parameters"
   ]
  },
  {
   "cell_type": "code",
   "execution_count": 16,
   "metadata": {},
   "outputs": [],
   "source": [
    "device = torch.device(\"cuda\" if torch.cuda.is_available() else \"cpu\")\n",
    "def train(model, train_loader, valid_loader, num_epochs, criterion):\n",
    "    train_loss = []\n",
    "    validation_loss = []\n",
    "\n",
    "    for epoch in range(num_epochs):\n",
    "        running_loss = 0.0\n",
    "        model.train()\n",
    "        \n",
    "        for img1, img2, labels in train_loader():\n",
    " \n",
    "            # Forward pass\n",
    "            img1 = img1.to(device)\n",
    "            img2 = img2.to(device)\n",
    "            labels = img2.to(device)\n",
    "\n",
    "            outputs = model(img1, img2)\n",
    "\n",
    "            # Backward and optimization\n",
    "            optimizer.zero_grad()\n",
    "            loss = criterion(outputs, labels)\n",
    "            loss.backward()\n",
    "            optimizer.step()\n",
    "            \n",
    "            running_loss+=loss.item()\n",
    "        \n",
    "        avg_train_loss = running_loss/len(train_loader)\n",
    "        train_loss.append(avg_train_loss)\n",
    "\n",
    "        val_running_loss = 0.0\n",
    "\n",
    "        with torch.no_grad():\n",
    "            model.eval()\n",
    "            for img1, img2, labels in valid_loader:\n",
    "                img1 = img1.to(device)\n",
    "                img2 = img2.to(device)\n",
    "\n",
    "                outputs = model(img1, img2)\n",
    "                loss = criterion(outputs, labels)\n",
    "\n",
    "                val_running_loss+=loss\n",
    "        print(f'epoch {epoch}, train_accuracy:{avg_train_loss}  validation_accuracy:{avg_val_loss}')\n",
    "        avg_val_loss = val_loss/len(valid_loader)    \n",
    "        val_running_loss.append(avg_val_loss)\n",
    "\n",
    "    return running_loss, val_running_loss       \n"
   ]
  },
  {
   "cell_type": "code",
   "execution_count": 17,
   "metadata": {},
   "outputs": [],
   "source": [
    "criterion = nn.CrossEntropyLoss()\n",
    "optimizer = optim.Adam(model.parameters(), lr=0.01)"
   ]
  },
  {
   "cell_type": "code",
   "execution_count": 18,
   "metadata": {},
   "outputs": [
    {
     "output_type": "error",
     "ename": "TypeError",
     "evalue": "'int' object is not iterable",
     "traceback": [
      "\u001b[0;31m---------------------------------------------------------------------------\u001b[0m",
      "\u001b[0;31mTypeError\u001b[0m                                 Traceback (most recent call last)",
      "\u001b[0;32m<ipython-input-18-b034552e8de5>\u001b[0m in \u001b[0;36m<module>\u001b[0;34m()\u001b[0m\n\u001b[0;32m----> 1\u001b[0;31m \u001b[0mtrain\u001b[0m\u001b[0;34m(\u001b[0m\u001b[0mmodel\u001b[0m\u001b[0;34m,\u001b[0m \u001b[0mtrain_loader\u001b[0m\u001b[0;34m,\u001b[0m \u001b[0mvalid_loader\u001b[0m\u001b[0;34m,\u001b[0m \u001b[0;36m2\u001b[0m\u001b[0;34m,\u001b[0m \u001b[0mcriterion\u001b[0m\u001b[0;34m)\u001b[0m\u001b[0;34m\u001b[0m\u001b[0;34m\u001b[0m\u001b[0m\n\u001b[0m",
      "\u001b[0;32m<ipython-input-16-8899932b0692>\u001b[0m in \u001b[0;36mtrain\u001b[0;34m(model, train_loader, valid_loader, num_epochs, criterion)\u001b[0m\n\u001b[1;32m      4\u001b[0m     \u001b[0mvalidation_loss\u001b[0m \u001b[0;34m=\u001b[0m \u001b[0;34m[\u001b[0m\u001b[0;34m]\u001b[0m\u001b[0;34m\u001b[0m\u001b[0;34m\u001b[0m\u001b[0m\n\u001b[1;32m      5\u001b[0m \u001b[0;34m\u001b[0m\u001b[0m\n\u001b[0;32m----> 6\u001b[0;31m     \u001b[0;32mfor\u001b[0m \u001b[0mepoch\u001b[0m \u001b[0;32min\u001b[0m \u001b[0mnum_epochs\u001b[0m\u001b[0;34m:\u001b[0m\u001b[0;34m\u001b[0m\u001b[0;34m\u001b[0m\u001b[0m\n\u001b[0m\u001b[1;32m      7\u001b[0m         \u001b[0mrunning_loss\u001b[0m \u001b[0;34m=\u001b[0m \u001b[0;36m0.0\u001b[0m\u001b[0;34m\u001b[0m\u001b[0;34m\u001b[0m\u001b[0m\n\u001b[1;32m      8\u001b[0m         \u001b[0mmodel\u001b[0m\u001b[0;34m.\u001b[0m\u001b[0mtrain\u001b[0m\u001b[0;34m(\u001b[0m\u001b[0;34m)\u001b[0m\u001b[0;34m\u001b[0m\u001b[0;34m\u001b[0m\u001b[0m\n",
      "\u001b[0;31mTypeError\u001b[0m: 'int' object is not iterable"
     ]
    }
   ],
   "source": [
    "train(model, train_loader, valid_loader, 2, criterion)"
   ]
  },
  {
   "cell_type": "code",
   "execution_count": null,
   "metadata": {},
   "outputs": [],
   "source": []
  }
 ],
 "metadata": {
  "kernelspec": {
   "display_name": "Python 3",
   "language": "python",
   "name": "python3"
  },
  "language_info": {
   "codemirror_mode": {
    "name": "ipython",
    "version": 3
   },
   "file_extension": ".py",
   "mimetype": "text/x-python",
   "name": "python",
   "nbconvert_exporter": "python",
   "pygments_lexer": "ipython3",
   "version": "3.6.9-final"
  }
 },
 "nbformat": 4,
 "nbformat_minor": 4
}