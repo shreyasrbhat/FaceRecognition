{
 "cells": [
  {
   "cell_type": "code",
   "execution_count": 12,
   "metadata": {},
   "outputs": [
    {
     "name": "stdout",
     "output_type": "stream",
     "text": [
      "Collecting torchvision\n",
      "  Using cached torchvision-0.6.1-cp36-cp36m-manylinux1_x86_64.whl (6.6 MB)\n",
      "Requirement already satisfied: pillow>=4.1.1 in /usr/local/lib/python3.6/site-packages (from torchvision) (7.2.0)\n",
      "Collecting torch==1.5.1\n",
      "  Downloading torch-1.5.1-cp36-cp36m-manylinux1_x86_64.whl (753.2 MB)\n",
      "\u001b[K     |###                             | 76.6 MB 1.1 MB/s eta 0:10:36^C\n",
      "\n",
      "\u001b[31mERROR: Operation cancelled by user\u001b[0m\n",
      "\u001b[?25h"
     ]
    }
   ],
   "source": [
    "# !pip install glob3\n",
    "# !pip install Pillow\n",
    "!pip install torchvision"
   ]
  },
  {
   "cell_type": "code",
   "execution_count": 11,
   "metadata": {},
   "outputs": [],
   "source": [
    "import torch\n",
    "from torch.utils.data import Dataset, DataLoader, random_split\n",
    "\n",
    "\n",
    "\n",
    "\n",
    "import PIL\n",
    "\n",
    "import glob\n",
    "import os\n",
    "\n",
    "from collections import defaultdict\n",
    "import random\n",
    "\n",
    "\n",
    "    "
   ]
  },
  {
   "cell_type": "code",
   "execution_count": 2,
   "metadata": {},
   "outputs": [],
   "source": [
    "def read_files(data_path):\n",
    "    work_dir = os.getcwd()\n",
    "    os.chdir(data_path)\n",
    "    data_dict = defaultdict(dict)\n",
    "    \n",
    "    try:\n",
    "        for file in glob.glob('./*/*'):\n",
    "            path_split = file.split('/')[1:]\n",
    "            data_dict[path_split[0]][path_split[1]] = os.listdir(file)\n",
    "    except Exception as e:\n",
    "        print(e)\n",
    "        os.chdir(work_dir)\n",
    "    os.chdir(work_dir)\n",
    "    \n",
    "    return data_dict"
   ]
  },
  {
   "cell_type": "code",
   "execution_count": 3,
   "metadata": {},
   "outputs": [],
   "source": [
    "train_dir = 'data/omniglot/images_background/'\n",
    "train_dict = read_files(train_dir)\n",
    "\n",
    "test_dir = 'data/omniglot/images_evaluation/'\n",
    "test_dict = read_files(test_dir)"
   ]
  },
  {
   "cell_type": "code",
   "execution_count": 4,
   "metadata": {},
   "outputs": [],
   "source": [
    "class ImageLoader(Dataset):\n",
    "    def __init__(self, data_path, data_size):\n",
    "        self.data_path = data_path\n",
    "        self.data_size = data_size\n",
    "        self.data_dict = self.read_files()\n",
    "        self.category = list(self.data_dict.keys())\n",
    "    \n",
    "    def __len__(self):\n",
    "        return self.data_size\n",
    "    \n",
    "    def read_files(self):\n",
    "        work_dir = os.getcwd()\n",
    "        os.chdir(self.data_path)\n",
    "        data_dict = defaultdict(dict)\n",
    "\n",
    "        try:\n",
    "            for file in glob.glob('./*/*'):\n",
    "                path_split = file.split('/')[1:]\n",
    "                data_dict[path_split[0]][path_split[1]] = os.listdir(file)\n",
    "        except Exception as e:\n",
    "            print(e)\n",
    "            os.chdir(work_dir)\n",
    "        os.chdir(work_dir)\n",
    "\n",
    "        return data_dict\n",
    "    \n",
    "    def sample_images(self, same_class=True):\n",
    "        img1 = img2 = class_ = None\n",
    "        cat = random.choice(self.category)\n",
    "        if same_class:\n",
    "            char = random.choice(list(self.data_dict[cat].keys()))\n",
    "            img1, img2 = random.sample(self.data_dict[cat][char], 2)\n",
    "            \n",
    "            img1 = ('/').join([cat, char, img1])\n",
    "            img2 = ('/').join([cat, char, img2])\n",
    "            return [img1, img2, 1]\n",
    "        \n",
    "        if random.random() > 0.5:\n",
    "            char1, char2 = random.sample(list(self.data_dict[cat].keys()), 2)\n",
    "            img1 = random.choice(self.data_dict[cat][char1])\n",
    "            img2 = random.choice(self.data_dict[cat][char2])\n",
    "\n",
    "            img1 = ('/').join([cat, char1, img1])\n",
    "            img2 = ('/').join([cat, char2, img2])\n",
    "        else:\n",
    "            char1 = random.choice(list(self.data_dict[cat].keys()))\n",
    "            img1 = random.choice(self.data_dict[cat][char1])\n",
    "            img1 = ('/').join([cat, char1, img1])\n",
    "\n",
    "            cat2 = random.choice(self.category)\n",
    "            char2 = random.choice(list(self.data_dict[cat2].keys()))\n",
    "            img2 = random.choice(self.data_dict[cat2][char2])\n",
    "            img2 = ('/').join([cat2, char2, img2])\n",
    "        \n",
    "        return [img1, img2, 0]   \n",
    "              \n",
    "        \n",
    "    \n",
    "    def __getitem__(self, index):\n",
    "        if index%2==0:\n",
    "            return self.sample_images(same_class=True)\n",
    "        return self.sample_images(same_class=False)   \n",
    "        "
   ]
  },
  {
   "cell_type": "code",
   "execution_count": 6,
   "metadata": {},
   "outputs": [],
   "source": [
    "imgLoader = ImageLoader(train_dir, 10000)\n",
    "train_set, val_set = random_split(imgLoader, [8000, 2000])"
   ]
  },
  {
   "cell_type": "code",
   "execution_count": null,
   "metadata": {},
   "outputs": [],
   "source": []
  }
 ],
 "metadata": {
  "kernelspec": {
   "display_name": "Python 3",
   "language": "python",
   "name": "python3"
  },
  "language_info": {
   "codemirror_mode": {
    "name": "ipython",
    "version": 3
   },
   "file_extension": ".py",
   "mimetype": "text/x-python",
   "name": "python",
   "nbconvert_exporter": "python",
   "pygments_lexer": "ipython3",
   "version": "3.6.10"
  }
 },
 "nbformat": 4,
 "nbformat_minor": 4
}
