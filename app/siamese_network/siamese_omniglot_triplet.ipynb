{
  "nbformat": 4,
  "nbformat_minor": 0,
  "metadata": {
    "kernelspec": {
      "display_name": "Python 3",
      "language": "python",
      "name": "python3"
    },
    "language_info": {
      "codemirror_mode": {
        "name": "ipython",
        "version": 3
      },
      "file_extension": ".py",
      "mimetype": "text/x-python",
      "name": "python",
      "nbconvert_exporter": "python",
      "pygments_lexer": "ipython3",
      "version": "3.6.9-final"
    },
    "colab": {
      "name": "siamese_omniglot_triplet.ipynb",
      "provenance": [],
      "collapsed_sections": []
    },
    "accelerator": "GPU"
  },
  "cells": [
    {
      "cell_type": "code",
      "metadata": {
        "id": "bdo1j7-IKV4w",
        "colab_type": "code",
        "colab": {
          "base_uri": "https://localhost:8080/",
          "height": 68
        },
        "outputId": "c27bead4-1232-4c94-d429-e725474a81f6"
      },
      "source": [
        "!curl --header \"Host: storage.googleapis.com\" --header \"User-Agent: Mozilla/5.0 (X11; Linux x86_64) AppleWebKit/537.36 (KHTML, like Gecko) Chrome/84.0.4147.89 Safari/537.36\" --header \"Accept: text/html,application/xhtml+xml,application/xml;q=0.9,image/webp,image/apng,*/*;q=0.8,application/signed-exchange;v=b3;q=0.9\" --header \"Accept-Language: en-US,en;q=0.9\" --header \"Referer: https://www.kaggle.com/\" \"https://storage.googleapis.com/kaggle-data-sets/57364%2F110433%2Fbundle%2Farchive.zip?GoogleAccessId=gcp-kaggle-com@kaggle-161607.iam.gserviceaccount.com&Expires=1596444262&Signature=K1BYbE%2B4tSN1AVXTBUzrhopSGhNvmgdSmLabk7e5jVmmYyrFoVqT0s6JGSUa2cGiF7taa4djxQWjlBYq4Icg3v4oNfjGREE0MAXzKaF6CsxP2W5KksjwqRHLHiH3rGKZ1wVBgXQ3I3%2Fn8bZ%2FQMpnVRW3xuyZ9M6uHAqngS8HDdIl%2FcI2GYQN55HoFfz7EbQc2p3VBGz4lP%2BG6ST8NUlobUjJE9BtYX4Q2gwQb1%2Ba2Kw5Q7J6wbvPsa2e9i96DmV3KIPamA4fPS2Mtk%2Frw91NNv7zI6D1QSsGEpgCmXZwC5Sej8fNbxIxjQGkRUkvZZALG%2BswfGE5BPFQ6fhbkPAzFA%3D%3D\" -L -o 'omniglot.zip'"
      ],
      "execution_count": null,
      "outputs": [
        {
          "output_type": "stream",
          "text": [
            "  % Total    % Received % Xferd  Average Speed   Time    Time     Time  Current\n",
            "                                 Dload  Upload   Total   Spent    Left  Speed\n",
            "100 30.0M  100 30.0M    0     0  62.9M      0 --:--:-- --:--:-- --:--:-- 62.8M\n"
          ],
          "name": "stdout"
        }
      ]
    },
    {
      "cell_type": "code",
      "metadata": {
        "id": "X4hMAItHLCGp",
        "colab_type": "code",
        "colab": {}
      },
      "source": [
        "!unzip omniglot.zip"
      ],
      "execution_count": null,
      "outputs": []
    },
    {
      "cell_type": "code",
      "metadata": {
        "id": "hbbs0Vwl_mRK",
        "colab_type": "code",
        "colab": {
          "base_uri": "https://localhost:8080/",
          "height": 122
        },
        "outputId": "e486e5ea-e79e-481d-b8ee-d7f8ac14d605"
      },
      "source": [
        "from google.colab import drive\n",
        "drive.mount('/content/drive')"
      ],
      "execution_count": null,
      "outputs": [
        {
          "output_type": "stream",
          "text": [
            "Go to this URL in a browser: https://accounts.google.com/o/oauth2/auth?client_id=947318989803-6bn6qk8qdgf4n4g3pfee6491hc0brc4i.apps.googleusercontent.com&redirect_uri=urn%3aietf%3awg%3aoauth%3a2.0%3aoob&response_type=code&scope=email%20https%3a%2f%2fwww.googleapis.com%2fauth%2fdocs.test%20https%3a%2f%2fwww.googleapis.com%2fauth%2fdrive%20https%3a%2f%2fwww.googleapis.com%2fauth%2fdrive.photos.readonly%20https%3a%2f%2fwww.googleapis.com%2fauth%2fpeopleapi.readonly\n",
            "\n",
            "Enter your authorization code:\n",
            "··········\n",
            "Mounted at /content/drive\n"
          ],
          "name": "stdout"
        }
      ]
    },
    {
      "cell_type": "code",
      "metadata": {
        "id": "5oB9sPYFI1Sd",
        "colab_type": "code",
        "colab": {}
      },
      "source": [
        "import torch\n",
        "from torch.utils.data import Dataset, DataLoader, random_split\n",
        "from torch import nn\n",
        "import torch.nn.functional as F\n",
        "import torch.optim as optim\n",
        "\n",
        "from torchvision import transforms\n",
        "\n",
        "import matplotlib.pyplot as plt\n",
        "\n",
        "\n",
        "\n",
        "import PIL\n",
        "\n",
        "import glob\n",
        "import os\n",
        "\n",
        "from collections import defaultdict\n",
        "import random\n",
        "import numpy as np\n",
        "\n",
        "\n",
        "    "
      ],
      "execution_count": null,
      "outputs": []
    },
    {
      "cell_type": "code",
      "metadata": {
        "id": "p5rH3tuKfhKN",
        "colab_type": "code",
        "colab": {}
      },
      "source": [
        "def save_model(save_path, model, optimizer, val_loss):\n",
        "  state_dict = {\n",
        "      'model': model.state_dict(),\n",
        "      'optimizer': optimizer.state_dict(),\n",
        "      'val_loss': val_loss\n",
        "  }\n",
        "  torch.save(state_dict, save_path)\n",
        "  print(f'model saved to {save_path}')\n",
        "\n",
        "def load_model(load_path, model, optimizer):\n",
        "  state_dict = torch.load(load_path)\n",
        "  model.load_state_dict(state_dict['model'])\n",
        "  optimizer.load_state_dict(state_dict['optimizer'])\n",
        "  print(f'Model loaded from {load_path}')\n",
        "  return state_dict['val_loss']"
      ],
      "execution_count": null,
      "outputs": []
    },
    {
      "cell_type": "code",
      "metadata": {
        "id": "q6lgujpoI1Sm",
        "colab_type": "code",
        "colab": {}
      },
      "source": [
        "train_dir = 'images_background/'\n",
        "#train_dict = read_files(train_dir)\n",
        "\n",
        "# test_dir = 'data/omniglot/images_evaluation/'\n",
        "# test_dict = read_files(test_dir)"
      ],
      "execution_count": null,
      "outputs": []
    },
    {
      "cell_type": "code",
      "metadata": {
        "id": "OO7-_l0PI1Sw",
        "colab_type": "code",
        "colab": {}
      },
      "source": [
        "img_transform = transforms.Compose([\n",
        "        # transforms.RandomHorizontalFlip(),\n",
        "        transforms.ToTensor(),])"
      ],
      "execution_count": null,
      "outputs": []
    },
    {
      "cell_type": "code",
      "metadata": {
        "id": "Gxb6AA6wdHvn",
        "colab_type": "code",
        "colab": {}
      },
      "source": [
        "class TestData(Dataset):\n",
        "  def __init__(self, data_path, data_size, n_ways, transforms=None):\n",
        "    super(TestData, self).__init__()\n",
        "    self.data_size = data_size\n",
        "    self.data_path = data_path\n",
        "    self.n_ways = n_ways\n",
        "    self.transforms = transforms\n",
        "    self.data_dict = self.read_files()\n",
        "\n",
        "  def read_files(self):\n",
        "      work_dir = os.getcwd()\n",
        "      os.chdir(self.data_path)\n",
        "      data_dict = defaultdict(dict)\n",
        "\n",
        "      try:\n",
        "          for file in glob.glob('./*/*'):\n",
        "              path_split = file.split('/')[1:]\n",
        "              data_dict[path_split[0]][path_split[1]] = os.listdir(file)\n",
        "      except Exception as e:\n",
        "          print(e)\n",
        "          os.chdir(work_dir)\n",
        "      os.chdir(work_dir)\n",
        "\n",
        "      return data_dict\n",
        "    \n",
        "  def __len__(self):\n",
        "    return self.data_size\n",
        "  \n",
        "  def __getitem__(self, index):\n",
        "    test_set = []\n",
        "    target_cat = random.choice(list(self.data_dict.keys()))\n",
        "    target_char = random.choice(list(self.data_dict[target_cat].keys()))\n",
        "    main_img = random.choice(self.data_dict[target_cat][target_char])\n",
        "    main_img = '/'.join([target_cat, target_char, main_img])\n",
        "\n",
        "    label = random.randint(0, self.n_ways-1)\n",
        "    for i in range(self.n_ways):\n",
        "      if i == label:\n",
        "        img = random.choice(list(set(self.data_dict[target_cat][target_char])-set(main_img)))\n",
        "        img = '/'.join([target_cat, target_char, img])\n",
        "        test_set.append(img)\n",
        "        continue\n",
        "      \n",
        "      if random.random() > 0.3:\n",
        "        char = random.choice(list(set(self.data_dict[target_cat].keys())-set([target_char])))\n",
        "        img =  random.choice(self.data_dict[target_cat][char])\n",
        "        img = '/'.join([target_cat, char, img])\n",
        "        test_set.append(img)\n",
        "      else:\n",
        "        cat = random.choice(list(set(self.data_dict.keys())-set([target_cat])))\n",
        "        char = random.choice(list(self.data_dict[cat].keys()))\n",
        "        img = random.choice(self.data_dict[cat][char])\n",
        "        img = '/'.join([cat, char, img])\n",
        "        test_set.append(img)\n",
        "    if self.transforms:\n",
        "      main_img = self.transforms(PIL.Image.open(self.data_path + '/' + main_img))\n",
        "      test_set = [self.transforms(PIL.Image.open(self.data_path + '/' + img)) for img in test_set]\n",
        "      test_set = torch.stack(test_set)\n",
        "    return (main_img, test_set, torch.tensor([label], dtype=torch.float))\n",
        "\n",
        "      \n",
        "\n",
        "      \n",
        "      \n"
      ],
      "execution_count": null,
      "outputs": []
    },
    {
      "cell_type": "code",
      "metadata": {
        "id": "fPegQ6imXq5-",
        "colab_type": "code",
        "colab": {
          "base_uri": "https://localhost:8080/",
          "height": 252
        },
        "outputId": "64dcc6d4-0d59-4f66-b13f-903fc6d40db0"
      },
      "source": [
        "main_img, test_set, label = next(iter(test_loader))\n",
        "fig = plt.figure(figsize=(25,4))\n",
        "test_set = test_set.squeeze(0)\n",
        "num_test = test_set.shape[0]\n",
        "\n",
        "ax1 = fig.add_subplot(2,num_test,label.item()+1, xticks=[], yticks=[])\n",
        "img = main_img.numpy().squeeze(0).squeeze(0)\n",
        "plt.subplots_adjust(wspace=0, hspace=0)\n",
        "ax1.imshow(img)\n",
        "for i in range(num_test):\n",
        "    \n",
        "    ax2 = fig.add_subplot(2, num_test, i+1+num_test, xticks=[], yticks=[])\n",
        "    img = test_set[i].numpy().squeeze(0)\n",
        "    plt.subplots_adjust(wspace=0, hspace=0)\n",
        "    ax2.imshow(img)"
      ],
      "execution_count": null,
      "outputs": [
        {
          "output_type": "display_data",
          "data": {
            "image/png": "[encoded data removed]",
            "text/plain": [
              "<Figure size 1800x288 with 3 Axes>"
            ]
          },
          "metadata": {
            "tags": []
          }
        }
      ]
    },
    {
      "cell_type": "code",
      "metadata": {
        "id": "9zAFb9ZdBnI1",
        "colab_type": "code",
        "colab": {}
      },
      "source": [
        "def display_sample(main_img, test_set, label):\n",
        "  fig = plt.figure(figsize=(25,4))\n",
        "  test_set = test_set.squeeze(0)\n",
        "  num_test = test_set.shape[0]\n",
        "\n",
        "  ax1 = fig.add_subplot(2,num_test,label.item()+1, xticks=[], yticks=[])\n",
        "  img = main_img.numpy().squeeze(0).squeeze(0)\n",
        "  plt.subplots_adjust(wspace=0, hspace=0)\n",
        "  ax1.imshow(img)\n",
        "  for i in range(num_test):\n",
        "      \n",
        "      ax2 = fig.add_subplot(2, num_test, i+1+num_test, xticks=[], yticks=[])\n",
        "      img = test_set[i].numpy().squeeze(0)\n",
        "      plt.subplots_adjust(wspace=0, hspace=0)\n",
        "      ax2.imshow(img)\n"
      ],
      "execution_count": null,
      "outputs": []
    },
    {
      "cell_type": "code",
      "metadata": {
        "id": "nVo4ml0AYUc3",
        "colab_type": "code",
        "colab": {}
      },
      "source": [
        "def eval(model, test_data, n_ways):\n",
        "  test_data = TestData('images_evaluation', 1000, n_ways, transforms=img_transform)\n",
        "  test_loader = DataLoader(test_data, shuffle=True)\n",
        "  d = nn.PairwiseDistance(p=2)\n",
        "  model = model.to(device)\n",
        "  predictions = []\n",
        "  with torch.no_grad():\n",
        "    model.eval()\n",
        "    for main_img, test_set, label in test_loader:\n",
        "      main = main_img.repeat(n_ways,1,1,1)\n",
        "      main = main.to(device)\n",
        "      target = test_set.to(device).squeeze(0)\n",
        "      main_emb, test_emb = model(main, target)\n",
        "      dist = d(main_emb, test_emb)\n",
        "      pred_label = torch.argmin(dist)\n",
        "      a, b = torch.sort(dist).values[:2]\n",
        "      if (pred_label.item() == label.item() and (b-a).item() >= 0.4):\n",
        "        predictions.append(1)\n",
        "      else:\n",
        "        predictions.append(0)\n",
        "        display_sample(main_img, test_set, pred_label)\n",
        "    return np.mean(predictions) * 100"
      ],
      "execution_count": null,
      "outputs": []
    },
    {
      "cell_type": "code",
      "metadata": {
        "id": "JqyLoO9ngeT5",
        "colab_type": "code",
        "colab": {}
      },
      "source": [
        "class TripletData(Dataset):\n",
        "  def __init__(self, data_path, data_size, transforms=None):\n",
        "    super(TripletData, self).__init__()\n",
        "    self.data_path = data_path\n",
        "    self.data_size = data_size\n",
        "    self.transforms = transforms\n",
        "    self.data_dict = self.read_files()\n",
        "    self.category = list(self.data_dict.keys())\n",
        "  \n",
        "  def __len__(self):\n",
        "    return self.data_size\n",
        "  \n",
        "  def read_files(self):\n",
        "        work_dir = os.getcwd()\n",
        "        os.chdir(self.data_path)\n",
        "        data_dict = defaultdict(dict)\n",
        "\n",
        "        try:\n",
        "            for file in glob.glob('./*/*'):\n",
        "                path_split = file.split('/')[1:]\n",
        "                data_dict[path_split[0]][path_split[1]] = os.listdir(file)\n",
        "        except Exception as e:\n",
        "            print(e)\n",
        "            os.chdir(work_dir)\n",
        "        os.chdir(work_dir)\n",
        "\n",
        "        return data_dict\n",
        "  \n",
        "  def __getitem__(self, idx):\n",
        "    cats = random.sample(self.category, 2)\n",
        "    chars = random.sample(list(self.data_dict[cats[0]].keys()), 2)\n",
        "    anchor_img, pos_img = random.sample(self.data_dict[cats[0]][chars[0]], 2)\n",
        "    anchor_img = '/'.join([cats[0], chars[0], anchor_img])\n",
        "    pos_img = '/'.join([cats[0], chars[0], pos_img])\n",
        "    neg_img = None\n",
        "\n",
        "    if random.random() > 0.3:\n",
        "      char = random.choice(list(self.data_dict[cats[1]].keys()))\n",
        "      neg_img = random.choice(self.data_dict[cats[1]][char])\n",
        "      neg_img = '/'.join([cats[1], char, neg_img])\n",
        "    else:\n",
        "      neg_img = random.choice(self.data_dict[cats[0]][chars[1]])\n",
        "      neg_img = '/'.join([cats[0], chars[1], neg_img])\n",
        "    \n",
        "    anchor_img = self.transforms(PIL.Image.open(self.data_path + '/' + anchor_img))\n",
        "    pos_img = self.transforms(PIL.Image.open(self.data_path + '/' + pos_img))\n",
        "    neg_img = self.transforms(PIL.Image.open(self.data_path + '/' + neg_img))\n",
        "    \n",
        "    return (anchor_img, pos_img, neg_img)\n",
        "  \n",
        "\n"
      ],
      "execution_count": null,
      "outputs": []
    },
    {
      "cell_type": "code",
      "metadata": {
        "id": "I77-pY4WFT-3",
        "colab_type": "code",
        "colab": {}
      },
      "source": [
        "triplet_data = TripletData('images_background', 50000, img_transform)\n",
        "train_set, val_set = random_split(triplet_data, [40000, 10000])\n",
        "train_loader = DataLoader(train_set, 256)\n",
        "valid_loader = DataLoader(val_set)"
      ],
      "execution_count": null,
      "outputs": []
    },
    {
      "cell_type": "code",
      "metadata": {
        "id": "up0akqQzLQeB",
        "colab_type": "code",
        "colab": {}
      },
      "source": [
        "# def criterion(anchor_emb, pos_emb, neg_emb):\n",
        "#   pos_dist = torch.sum(torch.square(anchor_emb-pos_emb))\n",
        "#   neg_dist = torch.sum(torch.square(anchor_emb-neg_emb))\n",
        "  \n",
        "#   loss = (pos_dist-neg_dist + anchor_emb.shape[0] * anchor_emb.shape[1])/(anchor_emb.shape[0])\n",
        "#   return loss\n",
        "\n",
        "def criterion(a, p, n, margin=0.5) : \n",
        "    d = nn.PairwiseDistance(p=2)\n",
        "    distance = d(a, p) - d(a, n) + margin \n",
        "    loss = torch.mean(torch.max(distance, torch.zeros_like(distance))) \n",
        "    return loss"
      ],
      "execution_count": null,
      "outputs": []
    },
    {
      "cell_type": "code",
      "metadata": {
        "id": "rev4R5hYf8HR",
        "colab_type": "code",
        "colab": {}
      },
      "source": [
        "class SiameseNet(nn.Module):\n",
        "    def __init__(self):\n",
        "        super(SiameseNet, self).__init__()\n",
        "        \n",
        "        ###Kernals\n",
        "        self.conv1 = nn.Conv2d(1,64,10)\n",
        "        self.conv2 = nn.Conv2d(64,128,7)\n",
        "        self.conv3 = nn.Conv2d(128, 128, 4)\n",
        "        self.conv4 = nn.Conv2d(128, 256, 4)\n",
        "\n",
        "        ###Batch Norm\n",
        "        self.bn1 = nn.BatchNorm2d(64)\n",
        "        self.bn2 = nn.BatchNorm2d(128)\n",
        "        self.bn3 = nn.BatchNorm2d(128)\n",
        "        self.bn4 = nn.BatchNorm2d(256)\n",
        "        \n",
        "        ####Dropout\n",
        "        self.dropout1 = nn.Dropout(0.1)\n",
        "        self.dropout2 = nn.Dropout(0.5)\n",
        "\n",
        "        ###FC layer\n",
        "        self.fc1 = nn.Linear(256*6*6, 4096)\n",
        "        self.fcOut = nn.Linear(4096, 256)\n",
        "\n",
        "        ###Final output\n",
        "        self.sigmoid = nn.Sigmoid()\n",
        "\n",
        "    def convs(self, x):\n",
        "        # 1, 105, 105\n",
        "        x = F.relu(self.bn1(self.conv1(x)))\n",
        "        # 64, 96, 96\n",
        "        x = F.max_pool2d(x, (2,2))\n",
        "        # 64, 48, 48\n",
        "        x = F.relu(self.bn2(self.conv2(x)))\n",
        "        # 128, 42, 42\n",
        "        x = F.max_pool2d(x, (2,2))\n",
        "        # 128, 21, 21\n",
        "        x = F.relu(self.bn3(self.conv3(x)))\n",
        "        #128, 18, 18\n",
        "        x = F.max_pool2d(x, (2,2))\n",
        "        #128, 9, 9\n",
        "        x = F.relu(self.bn4(self.conv4(x)))\n",
        "        #256, 6, 6\n",
        "        return x\n",
        "\n",
        "    def forward(self, anch, pos, neg=None):\n",
        "        anch = self.convs(anch)\n",
        "        anch = anch.view(-1, 256*6*6)\n",
        "        anch = F.relu(self.fc1(anch))\n",
        "        anch = F.relu(self.fcOut(anch))\n",
        "\n",
        "        pos = self.convs(pos)\n",
        "        pos = pos.view(-1, 256*6*6)\n",
        "        pos = F.relu(self.fc1(pos))\n",
        "        pos = F.relu(self.fcOut(pos))\n",
        "        \n",
        "        if neg != None:\n",
        "          neg = self.convs(neg)\n",
        "          neg = neg.view(-1, 256*6*6)\n",
        "          neg = F.relu(self.fc1(neg))\n",
        "          neg = F.relu(self.fcOut(neg))\n",
        "          return anch, pos, neg\n",
        "\n",
        "        return anch, pos"
      ],
      "execution_count": null,
      "outputs": []
    },
    {
      "cell_type": "code",
      "metadata": {
        "id": "-vT5G9wqjIWp",
        "colab_type": "code",
        "colab": {}
      },
      "source": [
        "device = torch.device(\"cuda\" if torch.cuda.is_available() else \"cpu\")\n",
        " "
      ],
      "execution_count": null,
      "outputs": []
    },
    {
      "cell_type": "code",
      "metadata": {
        "id": "X9o0yectkGAq",
        "colab_type": "code",
        "colab": {
          "base_uri": "https://localhost:8080/",
          "height": 34
        },
        "outputId": "050c4525-194b-4793-ad44-cafdbae6d6dd"
      },
      "source": [
        "model = SiameseNet()\n",
        "optimizer = optim.Adam(model.parameters(), lr=0.0003)\n",
        "load_model('drive/My Drive/Omniglot_siamese/triplet_model.pt', model, optimizer)\n",
        "model = model.to(device)\n",
        "\n",
        "#train_loss, validation_loss = train(model, train_loader, valid_loader, 50, criterion)"
      ],
      "execution_count": null,
      "outputs": [
        {
          "output_type": "stream",
          "text": [
            "Model loaded from drive/My Drive/Omniglot_siamese/triplet_model.pt\n"
          ],
          "name": "stdout"
        }
      ]
    },
    {
      "cell_type": "code",
      "metadata": {
        "id": "tTVnSWIvNzEm",
        "colab_type": "code",
        "colab": {}
      },
      "source": [
        "#eval(model, test_loader, 4)"
      ],
      "execution_count": null,
      "outputs": []
    },
    {
      "cell_type": "code",
      "metadata": {
        "id": "0DoClg3SRPow",
        "colab_type": "code",
        "colab": {}
      },
      "source": [
        "loader = TripletData('images_background', 128)\n",
        "data_dict = loader.read_files()"
      ],
      "execution_count": null,
      "outputs": []
    },
    {
      "cell_type": "code",
      "metadata": {
        "id": "_2N0C_AVEwow",
        "colab_type": "code",
        "colab": {}
      },
      "source": [
        "pos_num = 16\n",
        "neg_num = 200\n",
        "\n",
        "cats = random.sample(list(data_dict.keys()), 2)\n",
        "chars = random.sample(list(data_dict[cats[0]]), 2)\n",
        "pos_imgs = random.sample((data_dict[cats[0]][chars[0]]), pos_num)\n",
        "pos_imgs = ['/'.join(['images_background', cats[0], chars[0], img]) for img in pos_imgs]\n",
        "\n",
        "neg_imgs = []\n",
        "for i in range(neg_num):\n",
        "  if random.random() < 0.8:\n",
        "    neg_img = random.choice((data_dict[cats[0]][chars[1]]))\n",
        "    neg_imgs.append('/'.join(['images_background', cats[0],chars[1], neg_img]))\n",
        "  else:\n",
        "    cat = random.choice(list(set(data_dict.keys()) - set([cats[0]])))\n",
        "    char = random.choice(list(data_dict[cat]))\n",
        "    img = random.choice(data_dict[cat][char])\n",
        "    neg_imgs.append('/'.join(['images_background', cat,char, img]))\n",
        "\n",
        "main_img = img_transform(PIL.Image.open(pos_imgs[0]))\n",
        "pos = torch.stack([img_transform(PIL.Image.open(img)) for img in pos_imgs[1:]]).to(device)\n",
        "neg = torch.stack([img_transform(PIL.Image.open(img)) for img in neg_imgs]).to(device)\n",
        "\n",
        "with torch.no_grad():\n",
        "  model.eval()\n",
        "  embed_pos = model(main_img.repeat(pos_num-1,1,1,1).to(device), pos)\n",
        "  embed_neg = model(main_img.repeat(neg_num,1,1,1).to(device), neg)\n",
        "\n",
        "d = nn.PairwiseDistance(p=2)\n",
        "pos_dist = d(embed_pos[0], embed_pos[1])\n",
        "neg_dist = d(embed_neg[0], embed_neg[1])"
      ],
      "execution_count": null,
      "outputs": []
    },
    {
      "cell_type": "code",
      "metadata": {
        "id": "UXgAgJ_AWfan",
        "colab_type": "code",
        "colab": {}
      },
      "source": [
        ""
      ],
      "execution_count": null,
      "outputs": []
    }
  ]
}